{
 "cells": [
  {
   "cell_type": "markdown",
   "id": "8ddb2387-7105-42ac-aa0d-013c29bb76aa",
   "metadata": {},
   "source": [
    "Task 1 - Sum of Nested Lists:\n",
    "Scenario: You have a list that contains numbers and other lists of numbers (nested lists).\n",
    "You want to find the total sum of all the numbers in this structure.\n",
    "Task:\n",
    "• Write a recursive function sum_nested_list(nested_list) that:\n",
    "1. Takes a nested list (a list that can contain numbers or other lists of numbers) as\n",
    "input.\n",
    "2. Sums all numbers at every depth level of the list, regardless of how deeply nested\n",
    "the numbers are.\n",
    "• Test the function with a sample nested list, such as\n",
    "nested_list = [1, [2, [3, 4], 5], 6, [7, 8]].\n",
    "The result should be the total sum of all the numbers."
   ]
  },
  {
   "cell_type": "code",
   "execution_count": 1,
   "id": "8043e748-8607-4721-bf2f-1770caef7edb",
   "metadata": {},
   "outputs": [
    {
     "name": "stdout",
     "output_type": "stream",
     "text": [
      "The total sum is: 36\n"
     ]
    }
   ],
   "source": [
    "def sum_nested_list(nested_list):\n",
    "    \"\"\"\n",
    "    A recursive function to sum all numbers in a nested list.\n",
    "\n",
    "    Parameters:\n",
    "    nested_list (list): A list that can contain numbers or other lists of numbers.\n",
    "\n",
    "    Returns:\n",
    "    int: Total sum of all numbers in the nested list.\n",
    "    \"\"\"\n",
    "    total = 0\n",
    "    for element in nested_list:\n",
    "        if isinstance(element, list):\n",
    "            total += sum_nested_list(element)  # Recursively sum nested lists\n",
    "        else:\n",
    "            total += element  # Add numbers directly\n",
    "    return total\n",
    "\n",
    "# Example usage\n",
    "nested_list = [1, [2, [3, 4], 5], 6, [7, 8]]\n",
    "total_sum = sum_nested_list(nested_list)\n",
    "print(\"The total sum is:\", total_sum)\n"
   ]
  },
  {
   "cell_type": "markdown",
   "id": "30e160f3-9140-45fc-b7be-2a5c7477022a",
   "metadata": {},
   "source": [
    "Task 2 - Generate All Permutations of a String:\n",
    "Scenario: Given a string, generate all possible permutations of its characters. This is useful\n",
    "for understanding backtracking and recursive depth-first search.\n",
    "Task:\n",
    "• Write a recursive function generate_permutations(s) that:\n",
    "– Takes a string s as input and returns a list of all unique permutations.\n",
    "• Test with strings like ”abc” and ”aab”.\n",
    "\n",
    "print(generate_permutations(\"abc\"))\n",
    "# Should return [’abc’, ’acb’, ’bac’, ’bca’, ’cab’, ’cba’]"
   ]
  },
  {
   "cell_type": "code",
   "execution_count": 2,
   "id": "98ff57b0-aa9e-40cb-b6f2-22d7180d72f6",
   "metadata": {},
   "outputs": [
    {
     "name": "stdout",
     "output_type": "stream",
     "text": [
      "Permutations of 'abc': ['abc', 'acb', 'bac', 'bca', 'cab', 'cba']\n",
      "Permutations of 'aab': ['aab', 'aba', 'baa']\n"
     ]
    }
   ],
   "source": [
    "from itertools import permutations\n",
    "\n",
    "def generate_permutations(s):\n",
    "    \"\"\"\n",
    "    Generate all unique permutations of a given string.\n",
    "    \n",
    "    Parameters:\n",
    "    s (str): Input string.\n",
    "\n",
    "    Returns:\n",
    "    list: List of unique permutations.\n",
    "    \"\"\"\n",
    "    return sorted(set(''.join(p) for p in permutations(s)))\n",
    "\n",
    "# Test the function\n",
    "test_string_1 = \"abc\"\n",
    "test_string_2 = \"aab\"\n",
    "\n",
    "result_1 = generate_permutations(test_string_1)\n",
    "result_2 = generate_permutations(test_string_2)\n",
    "\n",
    "print(\"Permutations of 'abc':\", result_1)\n",
    "print(\"Permutations of 'aab':\", result_2)\n"
   ]
  },
  {
   "cell_type": "markdown",
   "id": "bb8a7b54-d4d8-43ac-840b-3ba41608db15",
   "metadata": {},
   "source": [
    "Task:\n",
    "1. Write a recursive function calculate_directory_size(directory) where:\n",
    "• directory is a dictionary where keys represent file names (with values as sizes in\n",
    "\n",
    "KB) or directory names (with values as another dictionary representing a subdi-\n",
    "rectory).\n",
    "\n",
    "• The function should return the total size of the directory, including all nested\n",
    "subdirectories.\n",
    "2. Test the function with a sample directory structure."
   ]
  },
  {
   "cell_type": "code",
   "execution_count": 3,
   "id": "25fd2802-732b-4561-8bdb-3e8a767ab96b",
   "metadata": {},
   "outputs": [
    {
     "name": "stdout",
     "output_type": "stream",
     "text": [
      "Total directory size: 2800 KB\n"
     ]
    }
   ],
   "source": [
    "def calculate_directory_size(directory):\n",
    "    \"\"\"\n",
    "    Recursively calculate the total size of a directory.\n",
    "    \n",
    "    Parameters:\n",
    "    directory (dict): A dictionary representing the directory structure, where keys\n",
    "                      are file/directory names and values are file sizes or nested dictionaries.\n",
    "\n",
    "    Returns:\n",
    "    int: Total size of the directory in KB.\n",
    "    \"\"\"\n",
    "    total_size = 0\n",
    "    for key, value in directory.items():\n",
    "        if isinstance(value, dict):  # If it's a subdirectory\n",
    "            total_size += calculate_directory_size(value)  # Recursive call for subdirectory\n",
    "        else:  # It's a file\n",
    "            total_size += value\n",
    "    return total_size\n",
    "\n",
    "# Test the function with a sample directory structure\n",
    "sample_directory = {\n",
    "    \"file1.txt\": 100,\n",
    "    \"file2.txt\": 200,\n",
    "    \"subdir1\": {\n",
    "        \"file3.txt\": 300,\n",
    "        \"file4.txt\": 400,\n",
    "        \"subsubdir1\": {\n",
    "            \"file5.txt\": 500\n",
    "        }\n",
    "    },\n",
    "    \"subdir2\": {\n",
    "        \"file6.txt\": 600,\n",
    "        \"file7.txt\": 700\n",
    "    }\n",
    "}\n",
    "\n",
    "total_size = calculate_directory_size(sample_directory)\n",
    "print(\"Total directory size:\", total_size, \"KB\")\n"
   ]
  },
  {
   "cell_type": "markdown",
   "id": "9db12a20-d6f4-4ce0-9795-77e2e9f7115b",
   "metadata": {},
   "source": [
    "Scenario: Given a set of coin denominations and a target amount, find the minimum number\n",
    "of coins needed to make the amount. If it’s not possible, return - 1.\n",
    "Task:\n",
    "1. Write a function min_coins(coins, amount) that:\n",
    "• Uses DP to calculate the minimum number of coins needed to make up the\n",
    "amount.\n",
    "2. Test with coins = [1, 2, 5] and amount = 11. The result should be 3 (using coins\n",
    "[5, 5, 1])."
   ]
  },
  {
   "cell_type": "code",
   "execution_count": 4,
   "id": "507c89f4-df63-4ff9-892e-272052315ee4",
   "metadata": {},
   "outputs": [
    {
     "name": "stdout",
     "output_type": "stream",
     "text": [
      "Minimum number of coins needed: 3\n"
     ]
    }
   ],
   "source": [
    "def min_coins(coins, amount):\n",
    "    \"\"\"\n",
    "    Calculate the minimum number of coins needed to make up the given amount using dynamic programming.\n",
    "    \n",
    "    Parameters:\n",
    "    coins (list): List of coin denominations.\n",
    "    amount (int): Target amount.\n",
    "\n",
    "    Returns:\n",
    "    int: Minimum number of coins needed or -1 if not possible.\n",
    "    \"\"\"\n",
    "    # Initialize the dp array with a large value (amount + 1 is effectively infinity here)\n",
    "    dp = [amount + 1] * (amount + 1)\n",
    "    dp[0] = 0  # Base case: 0 coins needed to make amount 0\n",
    "\n",
    "    for target in range(1, amount + 1):\n",
    "        for coin in coins:\n",
    "            if target >= coin:\n",
    "                dp[target] = min(dp[target], dp[target - coin] + 1)\n",
    "\n",
    "    # If the value at dp[amount] is still amount + 1, it means it's not possible to make the amount\n",
    "    return dp[amount] if dp[amount] != amount + 1 else -1\n",
    "\n",
    "# Example usage\n",
    "coins = [1, 2, 5]\n",
    "amount = 11\n",
    "result = min_coins(coins, amount)\n",
    "print(\"Minimum number of coins needed:\", result)\n",
    "\n"
   ]
  },
  {
   "cell_type": "markdown",
   "id": "e1a32221-978a-4ef4-b35b-3dbae9c8ed75",
   "metadata": {},
   "source": [
    "Task 2 - Longest Common Subsequence (LCS):\n",
    "Scenario: Given two strings, find the length of their longest common subsequence (LCS).\n",
    "This is useful in text comparison.\n",
    "Task:\n",
    "1. Write a function longest_common_subsequence(s1, s2) that:\n",
    "• Uses DP to find the length of the LCS of two strings s1 and s2.\n",
    "2. Test with strings like \"abcde\" and \"ace\"; the LCS length should be 3 (\"ace\")."
   ]
  },
  {
   "cell_type": "code",
   "execution_count": 5,
   "id": "84daab36-2d20-49f6-96bb-f834bfee75c9",
   "metadata": {},
   "outputs": [
    {
     "name": "stdout",
     "output_type": "stream",
     "text": [
      "Length of the Longest Common Subsequence: 3\n"
     ]
    }
   ],
   "source": [
    "def longest_common_subsequence(s1, s2):\n",
    "    \"\"\"\n",
    "    Calculate the length of the longest common subsequence (LCS) of two strings using dynamic programming.\n",
    "\n",
    "    Parameters:\n",
    "    s1 (str): First string.\n",
    "    s2 (str): Second string.\n",
    "\n",
    "    Returns:\n",
    "    int: Length of the LCS.\n",
    "    \"\"\"\n",
    "    # Lengths of the strings\n",
    "    m, n = len(s1), len(s2)\n",
    "\n",
    "    # Initialize a 2D DP table with dimensions (m+1) x (n+1)\n",
    "    dp = [[0] * (n + 1) for _ in range(m + 1)]\n",
    "\n",
    "    # Fill the DP table\n",
    "    for i in range(1, m + 1):\n",
    "        for j in range(1, n + 1):\n",
    "            if s1[i - 1] == s2[j - 1]:  # Characters match\n",
    "                dp[i][j] = dp[i - 1][j - 1] + 1\n",
    "            else:  # Characters do not match\n",
    "                dp[i][j] = max(dp[i - 1][j], dp[i][j - 1])\n",
    "\n",
    "    # The bottom-right cell contains the length of the LCS\n",
    "    return dp[m][n]\n",
    "\n",
    "# Example usage\n",
    "s1 = \"abcde\"\n",
    "s2 = \"ace\"\n",
    "lcs_length = longest_common_subsequence(s1, s2)\n",
    "print(\"Length of the Longest Common Subsequence:\", lcs_length)\n"
   ]
  },
  {
   "cell_type": "markdown",
   "id": "89609e79-f641-4484-9dd8-fd2127576d4a",
   "metadata": {},
   "source": [
    "Scenario: You have a list of items, each with a weight and a value. Given a weight capacity,\n",
    "maximize the total value of items you can carry without exceeding the weight capacity.\n",
    "Task:\n",
    "1. Write a function knapsack(weights, values, capacity) that:\n",
    "• Uses DP to determine the maximum value that can be achieved within the given\n",
    "weight capacity.\n",
    "\n",
    "2. Test with weights [1, 3, 4, 5], values [1, 4, 5, 7], and capacity 7. The re-\n",
    "sult should be 9."
   ]
  },
  {
   "cell_type": "code",
   "execution_count": 6,
   "id": "85e73bd2-ecdd-4799-84ff-77ac48db0626",
   "metadata": {},
   "outputs": [
    {
     "name": "stdout",
     "output_type": "stream",
     "text": [
      "Maximum value achievable: 9\n"
     ]
    }
   ],
   "source": [
    "def knapsack(weights, values, capacity):\n",
    "    \"\"\"\n",
    "    Solve the 0/1 Knapsack problem using dynamic programming.\n",
    "\n",
    "    Parameters:\n",
    "    weights (list): List of weights of the items.\n",
    "    values (list): List of values of the items.\n",
    "    capacity (int): Maximum weight capacity of the knapsack.\n",
    "\n",
    "    Returns:\n",
    "    int: Maximum value that can be achieved within the given weight capacity.\n",
    "    \"\"\"\n",
    "    n = len(weights)\n",
    "\n",
    "    # Initialize the DP table with dimensions (n+1) x (capacity+1)\n",
    "    dp = [[0] * (capacity + 1) for _ in range(n + 1)]\n",
    "\n",
    "    # Fill the DP table\n",
    "    for i in range(1, n + 1):\n",
    "        for w in range(1, capacity + 1):\n",
    "            if weights[i - 1] <= w:  # Item can be included\n",
    "                dp[i][w] = max(dp[i - 1][w], dp[i - 1][w - weights[i - 1]] + values[i - 1])\n",
    "            else:  # Item cannot be included\n",
    "                dp[i][w] = dp[i - 1][w]\n",
    "\n",
    "    # The bottom-right cell contains the maximum value\n",
    "    return dp[n][capacity]\n",
    "\n",
    "# Example usage\n",
    "weights = [1, 3, 4, 5]\n",
    "values = [1, 4, 5, 7]\n",
    "capacity = 7\n",
    "max_value = knapsack(weights, values, capacity)\n",
    "print(\"Maximum value achievable:\", max_value)\n",
    "\n"
   ]
  },
  {
   "cell_type": "code",
   "execution_count": null,
   "id": "f963ce0e-a614-4f87-89fc-fd5d3b7e793e",
   "metadata": {},
   "outputs": [],
   "source": []
  }
 ],
 "metadata": {
  "kernelspec": {
   "display_name": "Python 3 (ipykernel)",
   "language": "python",
   "name": "python3"
  },
  "language_info": {
   "codemirror_mode": {
    "name": "ipython",
    "version": 3
   },
   "file_extension": ".py",
   "mimetype": "text/x-python",
   "name": "python",
   "nbconvert_exporter": "python",
   "pygments_lexer": "ipython3",
   "version": "3.12.1"
  }
 },
 "nbformat": 4,
 "nbformat_minor": 5
}
