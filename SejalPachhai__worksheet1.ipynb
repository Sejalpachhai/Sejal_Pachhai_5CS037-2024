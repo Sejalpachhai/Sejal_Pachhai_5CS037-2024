{
  "cells": [
    {
      "cell_type": "markdown",
      "metadata": {
        "id": "oj4zkAMLmSMT"
      },
      "source": [
        "Problem - 1: Array Creation:\n",
        "Complete the following Tasks:\n",
        "1. Initialize an empty array with size 2X2.\n",
        "2. Initialize an all one array with size 4X2.\n",
        "3. Return a new array of given shape and type, filled with fill value.{Hint: np.full}\n",
        "4. Return a new array of zeros with same shape and type as a given array.{Hint: np.zeros like}\n",
        "5. Return a new array of ones with same shape and type as a given array.{Hint: np.ones like}\n",
        "6. For an existing list new_list = [1,2,3,4] convert to an numpy array.{Hint: np.array()}"
      ]
    },
    {
      "cell_type": "code",
      "execution_count": null,
      "metadata": {
        "colab": {
          "base_uri": "https://localhost:8080/"
        },
        "id": "MBTvhybOmHY-",
        "outputId": "ffbd105d-6c8b-4944-f7c2-837e5e090557"
      },
      "outputs": [
        {
          "name": "stdout",
          "output_type": "stream",
          "text": [
            "[[3.5e-323 3.5e-323]\n",
            " [3.5e-323 3.5e-323]]\n",
            "[[1. 1.]\n",
            " [1. 1.]\n",
            " [1. 1.]\n",
            " [1. 1.]]\n",
            "[[7 7]\n",
            " [7 7]]\n",
            "[[0. 0.]\n",
            " [0. 0.]\n",
            " [0. 0.]\n",
            " [0. 0.]]\n",
            "[[1. 1.]\n",
            " [1. 1.]]\n",
            "[1 2 3 4]\n"
          ]
        }
      ],
      "source": [
        "import numpy as np\n",
        "empty_arr = np.empty((2,2))\n",
        "one_arr = np.ones((4,2))\n",
        "print(empty_arr)\n",
        "print(one_arr)\n",
        "full_arr = np.full((2,2), 7)\n",
        "print(full_arr)\n",
        "zeros_like_arr = np.zeros_like(one_arr)\n",
        "print(zeros_like_arr)\n",
        "ones_like_arr = np.ones_like(empty_arr)\n",
        "print(ones_like_arr)\n",
        "new_list = [1,2,3,4]\n",
        "arr_list = np.array(new_list)\n",
        "print(arr_list)"
      ]
    },
    {
      "cell_type": "markdown",
      "metadata": {
        "id": "bIC9an8uo4Qh"
      },
      "source": [
        "Problem - 2: Array Manipulation: Numerical Ranges and Array indexing:\n",
        "Complete the following tasks:\n",
        "1. Create an array with values ranging from 10 to 49. {Hint:np.arrange()}.\n",
        "2. Create a 3X3 matrix with values ranging from 0 to 8.\n",
        "{Hint:look for np.reshape()}\n",
        "3. Create a 3X3 identity matrix.{Hint:np.eye()}\n",
        "4. Create a random array of size 30 and find the mean of the array.\n",
        "{Hint:check for np.random.random() and array.mean() function}\n",
        "5. Create a 10X10 array with random values and find the minimum and maximum values.\n",
        "6. Create a zero array of size 10 and replace 5th element with 1.\n",
        "7. Reverse an array arr = [1,2,0,0,4,0].\n",
        "8. Create a 2d array with 1 on border and 0 inside.\n",
        "9. Create a 8X8 matrix and fill it with a checkerboard pattern."
      ]
    },
    {
      "cell_type": "code",
      "execution_count": null,
      "metadata": {
        "colab": {
          "base_uri": "https://localhost:8080/"
        },
        "id": "eCf_4yUwpFoz",
        "outputId": "cc891d6d-c0e6-4111-b390-b1f711812a49"
      },
      "outputs": [
        {
          "name": "stdout",
          "output_type": "stream",
          "text": [
            "Matrix from 10-49:  [10 11 12 13 14 15 16 17 18 19 20 21 22 23 24 25 26 27 28 29 30 31 32 33\n",
            " 34 35 36 37 38 39 40 41 42 43 44 45 46 47 48 49]\n",
            "3 x 3 matrix from 0-8:  [[0 1 2]\n",
            " [3 4 5]\n",
            " [6 7 8]]\n",
            "3 x 3 identity matrix:  [[1. 0. 0.]\n",
            " [0. 1. 0.]\n",
            " [0. 0. 1.]]\n",
            "Random array of size 30:  [0.92808545 0.21907613 0.9420212  0.99188155 0.97237093 0.64872702\n",
            " 0.03227679 0.93778637 0.45403452 0.71670451 0.38384413 0.58310922\n",
            " 0.16935394 0.47538836 0.9443112  0.33009105 0.84957356 0.16446214\n",
            " 0.39863366 0.80951877 0.50077506 0.91715821 0.07421513 0.01134456\n",
            " 0.40176484 0.14711471 0.71636362 0.51540484 0.58408583 0.10945759]\n",
            "Random 10 x 10 matrix:  [[0.11387486 0.91500552 0.56338702 0.09841004 0.73625198 0.35825315\n",
            "  0.4528579  0.40100647 0.17172946 0.70554997]\n",
            " [0.27496209 0.17974191 0.21910193 0.98872716 0.82522655 0.29784763\n",
            "  0.50253066 0.44957968 0.99327804 0.77520103]\n",
            " [0.36945793 0.55246518 0.71678093 0.26061313 0.73542466 0.32909747\n",
            "  0.09706366 0.7105003  0.67429553 0.79743351]\n",
            " [0.05908229 0.81582563 0.66203638 0.61653642 0.99443248 0.61347349\n",
            "  0.96917296 0.14162631 0.36531378 0.74305329]\n",
            " [0.71406916 0.73663351 0.41866217 0.03290673 0.13647727 0.70338195\n",
            "  0.17289921 0.7343486  0.64210795 0.23446512]\n",
            " [0.52645529 0.6659414  0.0145696  0.20800087 0.15773043 0.70858308\n",
            "  0.44498705 0.09145421 0.33227199 0.6949966 ]\n",
            " [0.68554639 0.34750598 0.63507421 0.62228298 0.38770781 0.05351666\n",
            "  0.54735835 0.04517176 0.48678385 0.47944784]\n",
            " [0.08023904 0.35693135 0.86004498 0.65438552 0.04415044 0.34561793\n",
            "  0.57841254 0.32197884 0.71096128 0.30974294]\n",
            " [0.256435   0.95606199 0.79049983 0.07841084 0.11205218 0.04885667\n",
            "  0.59494828 0.70102017 0.79861613 0.63111478]\n",
            " [0.54539949 0.96607696 0.33494253 0.60238251 0.90450755 0.75422238\n",
            "  0.00957471 0.03590153 0.8423766  0.83175021]]\n",
            "Max is: 0.9944324764952653\n",
            "MIn is: 0.009574711698003169\n",
            "Zero array of size 10 with 5th element as 1:  [0. 0. 0. 0. 1. 0. 0. 0. 0. 0.]\n",
            "Reversed array:  [0 4 0 0 2 1]\n",
            "Bordered array: \n",
            " [[1. 1. 1. 1.]\n",
            " [1. 0. 0. 1.]\n",
            " [1. 0. 0. 1.]\n",
            " [1. 1. 1. 1.]]\n",
            "Checkerboard_arr: \n",
            " [[0 1 0 1 0 1 0 1]\n",
            " [1 0 1 0 1 0 1 0]\n",
            " [0 1 0 1 0 1 0 1]\n",
            " [1 0 1 0 1 0 1 0]\n",
            " [0 1 0 1 0 1 0 1]\n",
            " [1 0 1 0 1 0 1 0]\n",
            " [0 1 0 1 0 1 0 1]\n",
            " [1 0 1 0 1 0 1 0]]\n"
          ]
        }
      ],
      "source": [
        "import numpy as np\n",
        "\n",
        "#Create an array with values ranging from 10 to 49.\n",
        "arr_range = np.arange(10,50)\n",
        "print(\"Matrix from 10-49: \",arr_range)\n",
        "\n",
        "#Create a 3X3 matrix with values ranging from 0 to 8.\n",
        "arr_3x3_range = np.arange(0,9).reshape((3,3))\n",
        "print(\"3 x 3 matrix from 0-8: \", arr_3x3_range)\n",
        "\n",
        "#Create a 3X3 identity matrix.\n",
        "arr_3x3_identity = np.eye(3,3)\n",
        "print(\"3 x 3 identity matrix: \",arr_3x3_identity)\n",
        "\n",
        "#Create a random array of size 30 and find the mean of the array.\n",
        "arr_random = np.random.random(30)\n",
        "print(\"Random array of size 30: \", arr_random)\n",
        "\n",
        "#Create a 10X10 array with random values and find the minimum and maximum values.\n",
        "arr_rand_10x10 = np.random.rand(10, 10)\n",
        "print(\"Random 10 x 10 matrix: \", arr_rand_10x10)\n",
        "max = arr_rand_10x10.max()\n",
        "min = arr_rand_10x10.min()\n",
        "print(\"Max is:\", max)\n",
        "print(\"MIn is:\", min)\n",
        "\n",
        "#Create a zero array of size 10 and replace 5th element with 1.\n",
        "arr_zero_10 = np.zeros(10)\n",
        "arr_zero_10[4] = 1\n",
        "print(\"Zero array of size 10 with 5th element as 1: \", arr_zero_10)\n",
        "\n",
        "#Reverse an array arr = [1,2,0,0,4,0].\n",
        "arr = [1,2,0,0,4,0]\n",
        "arr_reversed = np.array(arr)[::-1]\n",
        "print(\"Reversed array: \", arr_reversed)\n",
        "\n",
        "#Create a 2d array with 1 on border and 0 inside.\n",
        "arr_2d = np.zeros((2,2))\n",
        "bordered_arr = np.pad(arr_2d, pad_width = 1, mode='constant', constant_values=1)\n",
        "print(\"Bordered array: \\n\", bordered_arr)\n",
        "\n",
        "# Create a 8X8 matrix and fill it with a checkerboard pattern.\n",
        "checkerboard_arr = np.indices((8, 8)).sum(axis=0) % 2\n",
        "print(\"Checkerboard_arr: \\n\", checkerboard_arr)\n"
      ]
    },
    {
      "cell_type": "markdown",
      "metadata": {
        "id": "cdVU9F2VUUmC"
      },
      "source": [
        "Problem - 3: Array Operations:\n",
        "For the following arrays:\n",
        "x = np.array([[1,2],[3,5]]) and y = np.array([[5,6],[7,8]]);\n",
        "v = np.array([9,10]) and w = np.array([11,12]);\n",
        "Complete all the task using numpy:\n",
        "1. Add the two array.\n",
        "2. Subtract the two array.\n",
        "3. Multiply the array with any integers of your choice.\n",
        "4. Find the square of each element of the array.\n",
        "5. Find the dot product between: v(and)w ; x(and)v ; x(and)y.\n",
        "6. Concatenate x(and)y along row and Concatenate v(and)w along column.\n",
        "{Hint:try np.concatenate() or np.vstack() functions.\n",
        "7. Concatenate x(and)v; if you get an error, observe and explain why did you get the error?"
      ]
    },
    {
      "cell_type": "code",
      "execution_count": null,
      "metadata": {
        "colab": {
          "base_uri": "https://localhost:8080/"
        },
        "id": "7VH2TOPcUXml",
        "outputId": "76808e14-6916-4608-b5e8-d65617ea0974"
      },
      "outputs": [
        {
          "name": "stdout",
          "output_type": "stream",
          "text": [
            "Addition of x and y: \n",
            " [[ 6  8]\n",
            " [10 13]]\n",
            "Addition of v and w:  [20 22]\n",
            "Substraction of x and y: \n",
            " [[-4 -4]\n",
            " [-4 -3]]\n",
            "Substraction of v and w:  [-2 -2]\n",
            "Multiplying x with 2 : \n",
            " [[ 2  4]\n",
            " [ 6 10]]\n",
            "Square of array y is: \n",
            " [[25 36]\n",
            " [49 64]]\n",
            "Dot product of x and y: \n",
            " [[19 22]\n",
            " [50 58]]\n",
            "Dot product of v and w: \n",
            " 219\n",
            "Dot product of x and v: \n",
            " [29 77]\n",
            "Concatination of x and y along row: \n",
            " [[1 2]\n",
            " [3 5]\n",
            " [5 6]\n",
            " [7 8]]\n",
            "Stacking of x and y along row: \n",
            " [[1 2]\n",
            " [3 5]\n",
            " [5 6]\n",
            " [7 8]]\n",
            "Stacking of v and w along row: \n",
            " [ 9 10 11 12]\n"
          ]
        }
      ],
      "source": [
        "import numpy as np\n",
        "x = np.array([[1,2],[3,5]])\n",
        "y = np.array([[5,6],[7,8]])\n",
        "v = np.array([9,10])\n",
        "w = np.array([11,12])\n",
        "\n",
        "# Adding the two arrays\n",
        "add_2x2 = np.add(x,y)\n",
        "add_1x2 = np.add(v,w)\n",
        "print(\"Addition of x and y: \\n\", add_2x2)\n",
        "print(\"Addition of v and w: \", add_1x2)\n",
        "\n",
        "# Subtracting the two arrays\n",
        "sub_2x2 = np.add(x,-y)\n",
        "sub_1x2 = np.subtract(v,w)\n",
        "print(\"Substraction of x and y: \\n\", sub_2x2)\n",
        "print(\"Substraction of v and w: \", sub_1x2)\n",
        "\n",
        "# Multiplying the array with any integers of my choice\n",
        "mul_num = 2\n",
        "mul_arr_x = np.multiply(x,mul_num)\n",
        "print(f\"Multiplying x with {mul_num} : \\n\", mul_arr_x)\n",
        "\n",
        "# Find the square of each element of the array.\n",
        "sqr_arr_y = np.power(y, 2)\n",
        "print(\"Square of array y is: \\n\", sqr_arr_y)\n",
        "\n",
        "# Find the dot product between: v(and)w ; x(and)v ; x(and)y.\n",
        "dot_x_y = np.dot(x,y)\n",
        "dot_v_w = np.dot(v,w)\n",
        "dot_x_v = np.dot(x,v)\n",
        "print(\"Dot product of x and y: \\n\", dot_x_y)\n",
        "print(\"Dot product of v and w: \\n\", dot_v_w)\n",
        "print(\"Dot product of x and v: \\n\", dot_x_v)\n",
        "\n",
        "# Concatenate x(and)y along row and Concatenate v(and)w along column.\n",
        "concat_x_y = np.concatenate((x,y),axis=0)\n",
        "stack_x_y = np.vstack((x,y))\n",
        "\n",
        "stack_v_w = np.hstack((v,w))\n",
        "print(\"Concatination of x and y along row: \\n\", concat_x_y)\n",
        "print(\"Stacking of x and y along row: \\n\", stack_x_y)\n",
        "print(\"Stacking of v and w along row: \\n\", stack_v_w)\n",
        "\n",
        "# Concatenate x(and)v\n",
        "# concate_x_v = np.concatenate((x,v),axis=0)"
      ]
    },
    {
      "cell_type": "markdown",
      "metadata": {
        "id": "LiEaM7fdd5dv"
      },
      "source": [
        "The code had a ValueError as the dimensions of both the array is not the same. The array x has the dimensions of 2x2 but array v has the dimensions of 1x2."
      ]
    },
    {
      "cell_type": "markdown",
      "metadata": {
        "id": "I95DuJtceyUf"
      },
      "source": [
        "Problem - 4: Matrix Operations:\n",
        "• For the following arrays:\n",
        "A = np.array([[3,4],[7,8]]) and B = np.array([[5,3],[2,1]]);\n",
        "Prove following with Numpy:\n",
        "1. Prove A.A−1 = I.\n",
        "2. Prove AB ̸= BA.\n",
        "3. Prove (AB)T = BTAT."
      ]
    },
    {
      "cell_type": "code",
      "execution_count": null,
      "metadata": {
        "colab": {
          "base_uri": "https://localhost:8080/"
        },
        "id": "WwPIEbAUeu9Q",
        "outputId": "36576109-d211-48a5-d4d9-c105ab719b2e"
      },
      "outputs": [
        {
          "name": "stdout",
          "output_type": "stream",
          "text": [
            "Multiplication of A and A_inverse: \n",
            " [[1.00000000e+00 0.00000000e+00]\n",
            " [1.77635684e-15 1.00000000e+00]]\n",
            "Identity matrix: \n",
            " [[1. 0.]\n",
            " [0. 1.]]\n",
            "The matrix multiplication of A and its inverse is an Identity matrix or close to it.\n",
            "Hence Proved.\n",
            "Multiplication of A and B: \n",
            " [[23 13]\n",
            " [51 29]]\n",
            "Multiplication of B and A: \n",
            " [[36 44]\n",
            " [13 16]]\n",
            "The matrix multiplication of A and B is not equal to the matrix multiplication of B and A.\n",
            "Hence Proved.\n",
            "The Transpose of AB ((AB)T) is: \n",
            " [[23 51]\n",
            " [13 29]]\n",
            "The Transpose of B multiplied with Transpose of A (BTAT) is: \n",
            " [[23 51]\n",
            " [13 29]]\n",
            "The transpose of AB and transpose of B multiplied with transpose of A is equal.\n",
            "Hence Proved.\n"
          ]
        }
      ],
      "source": [
        "import numpy as np\n",
        "\n",
        "A = np.array([[3,4],[7,8]])\n",
        "B = np.array([[5,3],[2,1]])\n",
        "\n",
        "# Prove A.A−1 = I.\n",
        "A_inverse = np.linalg.inv(A)\n",
        "\n",
        "mul_A_Ainv = np.dot(A, A_inverse)\n",
        "print(\"Multiplication of A and A_inverse: \\n\", mul_A_Ainv)\n",
        "idenity_matrix = np.eye(A.shape[0])\n",
        "print(\"Identity matrix: \\n\", idenity_matrix)\n",
        "\n",
        "is_identity = np.allclose(mul_A_Ainv, idenity_matrix)\n",
        "if(is_identity):\n",
        "    print(\"The matrix multiplication of A and its inverse is an Identity matrix or close to it.\")\n",
        "    print(\"Hence Proved.\")\n",
        "else:\n",
        "    print(\"Not Proved.\")\n",
        "\n",
        "# Prove AB ̸= BA.\n",
        "mul_AB = np.matmul(A,B)\n",
        "mul_BA = np.matmul(B,A)\n",
        "print(\"Multiplication of A and B: \\n\", mul_AB)\n",
        "print(\"Multiplication of B and A: \\n\", mul_BA)\n",
        "\n",
        "equal_mul = np.array_equal(mul_AB, mul_BA)\n",
        "if(not equal_mul):\n",
        "    print(\"The matrix multiplication of A and B is not equal to the matrix multiplication of B and A.\")\n",
        "    print(\"Hence Proved.\")\n",
        "else:\n",
        "    print(\"The matrix multiplication of A and B is equal to the matrix multiplication of b and A.\")\n",
        "    print(\"Not proved.\")\n",
        "\n",
        "# Prove (AB)T = BTAT\n",
        "A_transpose = np.transpose(A)\n",
        "B_transpose = np.transpose(B)\n",
        "AB_transpose = np.transpose(mul_AB)\n",
        "print(\"The Transpose of AB ((AB)T) is: \\n\", AB_transpose)\n",
        "B_trans_A_trans = np.matmul(B_transpose, A_transpose)\n",
        "print(\"The Transpose of B multiplied with Transpose of A (BTAT) is: \\n\", B_trans_A_trans)\n",
        "\n",
        "equal_trans = np.array_equal(AB_transpose, B_trans_A_trans)\n",
        "if(equal_trans):\n",
        "    print(\"The transpose of AB and transpose of B multiplied with transpose of A is equal.\")\n",
        "    print(\"Hence Proved.\")\n",
        "else:\n",
        "    print(\"Not Proved.\")"
      ]
    },
    {
      "cell_type": "markdown",
      "metadata": {
        "id": "C_DsFPd9utG2"
      },
      "source": [
        "• Solve the following system of Linear equation using Inverse Methods.\n",
        "\n",
        "2x − 3y + z = −1\n",
        "\n",
        "x − y + 2z = −3\n",
        "\n",
        "3x + y − z = 9\n",
        "\n",
        "{Hint: First use Numpy array to represent the equation in Matrix form. Then Solve for: AX = B}\n",
        "\n",
        "• Now: solve the above equation using np.linalg.inv function.{Explore more about ”linalg” function\n",
        "of Numpy}"
      ]
    },
    {
      "cell_type": "code",
      "execution_count": null,
      "metadata": {
        "colab": {
          "base_uri": "https://localhost:8080/"
        },
        "id": "tMlXnjJIu5qV",
        "outputId": "5b024525-d15c-4829-f9c1-ada0472b8219"
      },
      "outputs": [
        {
          "name": "stdout",
          "output_type": "stream",
          "text": [
            "The value of x, y, z is: \n",
            " [ 2.  1. -2.]\n"
          ]
        }
      ],
      "source": [
        "import numpy as np\n",
        "\n",
        "# representing in augmented matrix form\n",
        "\n",
        "# Matrix of coefficients\n",
        "a = [\n",
        "    [2,-3,1],\n",
        "    [1,-1,2],\n",
        "    [3,1,-1]\n",
        "    ]\n",
        "A = np.array(a)\n",
        "\n",
        "# Matrix of constants\n",
        "b = [-1,-3,9]\n",
        "B = np.array(b)\n",
        "\n",
        "# Using inverse method\n",
        "A_inverse = np.linalg.inv(A)\n",
        "X = np.matmul(A_inverse, B)\n",
        "print(\"The value of x, y, z is: \\n\", X)\n"
      ]
    },
    {
      "cell_type": "markdown",
      "metadata": {
        "id": "97exvgCvxmXC"
      },
      "source": [
        "Experiment: How Fast is Numpy?\n",
        "\n",
        "1. Element-wise Addition\n",
        "2. Element-wise Multiplication\n",
        "3. Dot Product\n",
        "4. Matrix Multiplication"
      ]
    },
    {
      "cell_type": "code",
      "execution_count": null,
      "metadata": {
        "colab": {
          "base_uri": "https://localhost:8080/"
        },
        "id": "5FqZUL58x4E7",
        "outputId": "7ff552eb-ae27-4d0f-a806-8bc5e0db42f5"
      },
      "outputs": [
        {
          "name": "stdout",
          "output_type": "stream",
          "text": [
            "Python time for add:  43.57272779599998\n",
            "Numpy time for add:  0.18940262000000985\n",
            "Python time for multiplication:  44.00085040800002\n",
            "Numpy time for multiplication:  0.1782109619999801\n",
            "Python time for dot product:  34.76507288000005\n",
            "Numpy time for dot product:  0.10804748300006395\n",
            "Python time for dot product:  72.525050136\n",
            "Numpy time for matrix multiplication:  0.28325286100005087\n"
          ]
        }
      ],
      "source": [
        "import numpy as np\n",
        "import random\n",
        "from timeit import timeit\n",
        "# Creating two different lists of size 1000000\n",
        "size = 1000000\n",
        "A_list = random.sample(range(size + 1), size)\n",
        "B_list = random.sample(range(size + 1), size)\n",
        "A_array = np.array(A_list)\n",
        "B_array = np.array(B_list)\n",
        "result = []\n",
        "\n",
        "# for python add\n",
        "def python_add(A, B):\n",
        "  for i in range(len(A)):\n",
        "    result.append(A[i] + B[i])\n",
        "  return result\n",
        "python_time_add = timeit(\"python_add(A_list, B_list)\", globals=globals(), number=100)\n",
        "print(\"Python time for add: \", python_time_add)\n",
        "# for numpy add\n",
        "def numpy_add(A, B):\n",
        "  return A + B\n",
        "numpy_time_add = timeit(\"numpy_add(A_array, B_array)\", globals=globals(), number=100)\n",
        "print(\"Numpy time for add: \", numpy_time_add)\n",
        "\n",
        "# for python multiplication\n",
        "def python_mul(A, B):\n",
        "  for i in range(len(A)):\n",
        "    result.append(A[i] + B[i])\n",
        "  return result\n",
        "python_time_mul = timeit(\"python_mul(A_list, B_list)\", globals=globals(), number=100)\n",
        "print(\"Python time for multiplication: \", python_time_mul)\n",
        "\n",
        "# for numpy multiplication\n",
        "def numpy_mul(A, B):\n",
        "  return np.multiply(A, B)\n",
        "numpy_time_mul = timeit(\"numpy_mul(A_array, B_array)\", globals=globals(), number=100)\n",
        "print(\"Numpy time for multiplication: \", numpy_time_mul)\n",
        "\n",
        "# for python dot product\n",
        "def python_dot(A, B):\n",
        "  result =  sum(a * b for a, b in zip(A, B))\n",
        "  return result\n",
        "python_time_dot = timeit(\"python_dot(A_list, B_list)\", globals=globals(), number=100)\n",
        "print(\"Python time for dot product: \", python_time_dot)\n",
        "\n",
        "# for numpy dot\n",
        "def numpy_dot(A, B):\n",
        "  return np.dot(A, B)\n",
        "numpy_time_dot = timeit(\"numpy_dot(A_array, B_array)\", globals=globals(), number=100)\n",
        "print(\"Numpy time for dot product: \", numpy_time_dot)\n",
        "\n",
        "matrix_size =300 # Adjust as needed\n",
        "Z1_matrix_list = [A_list[i:i + matrix_size] for i in range(0, matrix_size ** 2, matrix_size)]\n",
        "Z2_matrix_list = [B_list[i:i + matrix_size] for i in range(0, matrix_size ** 2, matrix_size)]\n",
        "\n",
        "Z1_matrix_arr = np.array(Z1_matrix_list)\n",
        "Z2_matrix_arr = np.array(Z2_matrix_list)\n",
        "# for python matrix multiplication\n",
        "def python_matmul(A,B):\n",
        "    return [\n",
        "        [sum(a * b for a,b in zip(row_A, col_B)) for col_B in zip(*B)]\n",
        "        for row_A in A\n",
        "    ]\n",
        "\n",
        "python_time_matmul = timeit(\"matrix_python(Z1_matrix_list, Z2_matrix_list)\", globals=globals(), number=10)\n",
        "print(\"Python time for dot product: \", python_time_matmul)\n",
        "\n",
        "# for numpy matrix multiplication\n",
        "def numpy_matmul(A, B):\n",
        "  return np.matmul(A, B)\n",
        "numpy_time_matmul = timeit(\"numpy_matmul(Z1_matrix_arr, Z2_matrix_arr)\", globals=globals(), number=10)\n",
        "print(\"Numpy time for matrix multiplication: \", numpy_time_matmul)"
      ]
    },
    {
      "cell_type": "code",
      "execution_count": null,
      "metadata": {
        "id": "nXW_gBRH1IZ9"
      },
      "outputs": [],
      "source": []
    }
  ],
  "metadata": {
    "colab": {
      "provenance": []
    },
    "kernelspec": {
      "display_name": "Python 3",
      "name": "python3"
    },
    "language_info": {
      "name": "python"
    }
  },
  "nbformat": 4,
  "nbformat_minor": 0
}
