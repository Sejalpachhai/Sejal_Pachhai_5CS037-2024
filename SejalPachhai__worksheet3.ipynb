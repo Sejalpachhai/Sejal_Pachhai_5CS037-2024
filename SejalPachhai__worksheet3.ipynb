{
  "cells": [
    {
      "cell_type": "markdown",
      "metadata": {
        "id": "2GS3UASTj8O0"
      },
      "source": [
        "# To-Do Task\n",
        "\n",
        "Problem 1 - Sorting:\n",
        "1. Create a DataFrame called fare that contains only the Fare column of the Titanic dataset. Print the\n",
        "head of the result.\n",
        "2. Create a DataFrame called class age that contains only the Pclass and Age columns of the Titanic\n",
        "dataset, in that order. Print the head of the result.\n",
        "3. Create a DataFrame called survived gender that contains the Survived and Sex columns of the\n",
        "Titanic dataset, in that order.Print the head of the result."
      ]
    },
    {
      "cell_type": "code",
      "execution_count": 41,
      "metadata": {
        "colab": {
          "base_uri": "https://localhost:8080/"
        },
        "id": "cXNsxnP7lcTz",
        "outputId": "2ea59853-f469-4d8c-9d7b-00b0c9fb09fd"
      },
      "outputs": [
        {
          "name": "stdout",
          "output_type": "stream",
          "text": [
            "Drive already mounted at /content/drive; to attempt to forcibly remount, call drive.mount(\"/content/drive\", force_remount=True).\n"
          ]
        }
      ],
      "source": [
        "from google.colab import drive\n",
        "drive.mount('/content/drive')"
      ]
    },
    {
      "cell_type": "code",
      "execution_count": 42,
      "metadata": {
        "colab": {
          "base_uri": "https://localhost:8080/"
        },
        "id": "1VIwZKxsoqBu",
        "outputId": "a110da53-c031-4a08-a07f-4ad5719e9c73"
      },
      "outputs": [
        {
          "name": "stdout",
          "output_type": "stream",
          "text": [
            "<class 'pandas.core.frame.DataFrame'>\n",
            "RangeIndex: 891 entries, 0 to 890\n",
            "Data columns (total 12 columns):\n",
            " #   Column       Non-Null Count  Dtype  \n",
            "---  ------       --------------  -----  \n",
            " 0   PassengerId  891 non-null    int64  \n",
            " 1   Survived     891 non-null    int64  \n",
            " 2   Pclass       891 non-null    int64  \n",
            " 3   Name         891 non-null    object \n",
            " 4   Sex          891 non-null    object \n",
            " 5   Age          714 non-null    float64\n",
            " 6   SibSp        891 non-null    int64  \n",
            " 7   Parch        891 non-null    int64  \n",
            " 8   Ticket       891 non-null    object \n",
            " 9   Fare         891 non-null    float64\n",
            " 10  Cabin        204 non-null    object \n",
            " 11  Embarked     889 non-null    object \n",
            "dtypes: float64(2), int64(5), object(5)\n",
            "memory usage: 83.7+ KB\n"
          ]
        }
      ],
      "source": [
        "import pandas as pd\n",
        "dataset = pd.read_csv(\"/content/drive/MyDrive/Datasets/Titanic-Dataset.csv\");\n",
        "dataset.info()"
      ]
    },
    {
      "cell_type": "code",
      "execution_count": 43,
      "metadata": {
        "colab": {
          "base_uri": "https://localhost:8080/"
        },
        "id": "uWKkkK7alUrV",
        "outputId": "f9b24d2b-9b58-4168-d0e3-16678c54ccfb"
      },
      "outputs": [
        {
          "name": "stdout",
          "output_type": "stream",
          "text": [
            "      Fare\n",
            "0   7.2500\n",
            "1  71.2833\n",
            "2   7.9250\n",
            "3  53.1000\n",
            "4   8.0500\n"
          ]
        }
      ],
      "source": [
        "# Create a DataFrame called fare with titanic dataset\n",
        "\n",
        "fare = pd.DataFrame(dataset['Fare'])\n",
        "print(fare.head())"
      ]
    },
    {
      "cell_type": "code",
      "execution_count": 44,
      "metadata": {
        "colab": {
          "base_uri": "https://localhost:8080/"
        },
        "id": "7d9vwvdfo3EY",
        "outputId": "ea19654b-b566-4ad5-dee6-6a5e4d4bd23b"
      },
      "outputs": [
        {
          "name": "stdout",
          "output_type": "stream",
          "text": [
            "   Pclass   Age\n",
            "0       3  22.0\n",
            "1       1  38.0\n",
            "2       3  26.0\n",
            "3       1  35.0\n",
            "4       3  35.0\n"
          ]
        }
      ],
      "source": [
        "# Create a DataFrame called class age that contains only the Pclass and Age columns of the Titanic dataset\n",
        "\n",
        "class_age = pd.DataFrame(dataset[['Pclass', 'Age']])\n",
        "print(class_age.head())"
      ]
    },
    {
      "cell_type": "code",
      "execution_count": 45,
      "metadata": {
        "colab": {
          "base_uri": "https://localhost:8080/"
        },
        "id": "hY07WE4DpEIy",
        "outputId": "9fb25a35-8fc2-4658-e609-d473a31bab78"
      },
      "outputs": [
        {
          "name": "stdout",
          "output_type": "stream",
          "text": [
            "   Survived     Sex\n",
            "0         0    male\n",
            "1         1  female\n",
            "2         1  female\n",
            "3         1  female\n",
            "4         0    male\n"
          ]
        }
      ],
      "source": [
        "# Create a DataFrame called survived gender that contains the Survived and Sex columns of the Titanic dataset\n",
        "survived_gender = pd.DataFrame(dataset[['Survived', 'Sex']])\n",
        "print(survived_gender.head())"
      ]
    },
    {
      "cell_type": "markdown",
      "metadata": {
        "id": "EZHpQoZIpq5E"
      },
      "source": [
        "Problem - 2 - Subsetting:\n",
        "\n",
        "Subsetting Rows:\n",
        "1. Filter the Titanic dataset for cases where the passenger’s fare is greater than 100, assigning it\n",
        "to fare gt 100.View the printed result.\n",
        "2. Filter the Titanic dataset for cases where the passenger’s class (Pclass) is 1, assigning it to\n",
        "first class.View the printed result.\n",
        "3. Filter the Titanic dataset for cases where the passenger’s age is less than 18 and the passenger\n",
        "is female (Sex is \"female\"), assigning it to female under 18. View the printed result.\n",
        "\n",
        "Subsetting Rows by Categorical variables:\n",
        "1. Filter the Titanic dataset for passengers whose Embarked port is either \"C\" (Cherbourg) or \"S\"\n",
        "(Southampton), assigning the result to embarked c or s. View the printed result.\n",
        "2. Filter the Titanic dataset for passengers whose Pclass is in the list [1, 2] (indicating first\n",
        "or second class), assigning the result to first second class.View the printed result."
      ]
    },
    {
      "cell_type": "code",
      "execution_count": 70,
      "metadata": {
        "colab": {
          "base_uri": "https://localhost:8080/"
        },
        "id": "Wr4ykYySp2bH",
        "outputId": "54064357-4ed2-43a5-b174-d8391135c3b9"
      },
      "outputs": [
        {
          "name": "stdout",
          "output_type": "stream",
          "text": [
            "Filtering the dataset for fare greater than 100:\n",
            "      PassengerId  Survived  Pclass  \\\n",
            "27            28         0       1   \n",
            "31            32         1       1   \n",
            "88            89         1       1   \n",
            "118          119         0       1   \n",
            "195          196         1       1   \n",
            "215          216         1       1   \n",
            "258          259         1       1   \n",
            "268          269         1       1   \n",
            "269          270         1       1   \n",
            "297          298         0       1   \n",
            "299          300         1       1   \n",
            "305          306         1       1   \n",
            "306          307         1       1   \n",
            "307          308         1       1   \n",
            "311          312         1       1   \n",
            "318          319         1       1   \n",
            "319          320         1       1   \n",
            "325          326         1       1   \n",
            "332          333         0       1   \n",
            "334          335         1       1   \n",
            "337          338         1       1   \n",
            "341          342         1       1   \n",
            "373          374         0       1   \n",
            "377          378         0       1   \n",
            "380          381         1       1   \n",
            "390          391         1       1   \n",
            "393          394         1       1   \n",
            "435          436         1       1   \n",
            "438          439         0       1   \n",
            "498          499         0       1   \n",
            "505          506         0       1   \n",
            "527          528         0       1   \n",
            "537          538         1       1   \n",
            "544          545         0       1   \n",
            "550          551         1       1   \n",
            "557          558         0       1   \n",
            "581          582         1       1   \n",
            "609          610         1       1   \n",
            "659          660         0       1   \n",
            "660          661         1       1   \n",
            "679          680         1       1   \n",
            "689          690         1       1   \n",
            "698          699         0       1   \n",
            "700          701         1       1   \n",
            "708          709         1       1   \n",
            "716          717         1       1   \n",
            "730          731         1       1   \n",
            "737          738         1       1   \n",
            "742          743         1       1   \n",
            "763          764         1       1   \n",
            "779          780         1       1   \n",
            "802          803         1       1   \n",
            "856          857         1       1   \n",
            "\n",
            "                                                  Name     Sex    Age  SibSp  \\\n",
            "27                      Fortune, Mr. Charles Alexander    male  19.00      3   \n",
            "31      Spencer, Mrs. William Augustus (Marie Eugenie)  female    NaN      1   \n",
            "88                          Fortune, Miss. Mabel Helen  female  23.00      3   \n",
            "118                           Baxter, Mr. Quigg Edmond    male  24.00      0   \n",
            "195                               Lurette, Miss. Elise  female  58.00      0   \n",
            "215                            Newell, Miss. Madeleine  female  31.00      1   \n",
            "258                                   Ward, Miss. Anna  female  35.00      0   \n",
            "268      Graham, Mrs. William Thompson (Edith Junkins)  female  58.00      0   \n",
            "269                             Bissette, Miss. Amelia  female  35.00      0   \n",
            "297                       Allison, Miss. Helen Loraine  female   2.00      1   \n",
            "299    Baxter, Mrs. James (Helene DeLaudeniere Chaput)  female  50.00      0   \n",
            "305                     Allison, Master. Hudson Trevor    male   0.92      1   \n",
            "306                            Fleming, Miss. Margaret  female    NaN      0   \n",
            "307  Penasco y Castellana, Mrs. Victor de Satode (M...  female  17.00      1   \n",
            "311                         Ryerson, Miss. Emily Borie  female  18.00      2   \n",
            "318                           Wick, Miss. Mary Natalie  female  31.00      0   \n",
            "319  Spedden, Mrs. Frederic Oakley (Margaretta Corn...  female  40.00      1   \n",
            "325                           Young, Miss. Marie Grice  female  36.00      0   \n",
            "332                          Graham, Mr. George Edward    male  38.00      0   \n",
            "334  Frauenthal, Mrs. Henry William (Clara Heinshei...  female    NaN      1   \n",
            "337                    Burns, Miss. Elizabeth Margaret  female  41.00      0   \n",
            "341                     Fortune, Miss. Alice Elizabeth  female  24.00      3   \n",
            "373                                Ringhini, Mr. Sante    male  22.00      0   \n",
            "377                          Widener, Mr. Harry Elkins    male  27.00      0   \n",
            "380                              Bidois, Miss. Rosalie  female  42.00      0   \n",
            "390                         Carter, Mr. William Ernest    male  36.00      1   \n",
            "393                             Newell, Miss. Marjorie  female  23.00      1   \n",
            "435                          Carter, Miss. Lucile Polk  female  14.00      1   \n",
            "438                                  Fortune, Mr. Mark    male  64.00      1   \n",
            "498    Allison, Mrs. Hudson J C (Bessie Waldo Daniels)  female  25.00      1   \n",
            "505         Penasco y Castellana, Mr. Victor de Satode    male  18.00      1   \n",
            "527                                 Farthing, Mr. John    male    NaN      0   \n",
            "537                                LeRoy, Miss. Bertha  female  30.00      0   \n",
            "544                         Douglas, Mr. Walter Donald    male  50.00      1   \n",
            "550                        Thayer, Mr. John Borland Jr    male  17.00      0   \n",
            "557                                Robbins, Mr. Victor    male    NaN      0   \n",
            "581  Thayer, Mrs. John Borland (Marian Longstreth M...  female  39.00      1   \n",
            "609                          Shutes, Miss. Elizabeth W  female  40.00      0   \n",
            "659                         Newell, Mr. Arthur Webster    male  58.00      0   \n",
            "660                      Frauenthal, Dr. Henry William    male  50.00      2   \n",
            "679                 Cardeza, Mr. Thomas Drake Martinez    male  36.00      0   \n",
            "689                  Madill, Miss. Georgette Alexandra  female  15.00      0   \n",
            "698                           Thayer, Mr. John Borland    male  49.00      1   \n",
            "700  Astor, Mrs. John Jacob (Madeleine Talmadge Force)  female  18.00      1   \n",
            "708                               Cleaver, Miss. Alice  female  22.00      0   \n",
            "716                      Endres, Miss. Caroline Louise  female  38.00      0   \n",
            "730                      Allen, Miss. Elisabeth Walton  female  29.00      0   \n",
            "737                             Lesurer, Mr. Gustave J    male  35.00      0   \n",
            "742              Ryerson, Miss. Susan Parker \"Suzette\"  female  21.00      2   \n",
            "763          Carter, Mrs. William Ernest (Lucile Polk)  female  36.00      1   \n",
            "779  Robert, Mrs. Edward Scott (Elisabeth Walton Mc...  female  43.00      0   \n",
            "802                Carter, Master. William Thornton II    male  11.00      1   \n",
            "856         Wick, Mrs. George Dennick (Mary Hitchcock)  female  45.00      1   \n",
            "\n",
            "     Parch    Ticket      Fare            Cabin Embarked  Fare_per_Year  \\\n",
            "27       2     19950  263.0000      C23 C25 C27        S      13.842105   \n",
            "31       0  PC 17569  146.5208              B78        C            NaN   \n",
            "88       2     19950  263.0000      C23 C25 C27        S      11.434783   \n",
            "118      1  PC 17558  247.5208          B58 B60        C      10.313367   \n",
            "195      0  PC 17569  146.5208              B80        C       2.526221   \n",
            "215      0     35273  113.2750              D36        C       3.654032   \n",
            "258      0  PC 17755  512.3292              NaN        C      14.637977   \n",
            "268      1  PC 17582  153.4625             C125        S       2.645905   \n",
            "269      0  PC 17760  135.6333              C99        S       3.875237   \n",
            "297      2    113781  151.5500          C22 C26        S      75.775000   \n",
            "299      1  PC 17558  247.5208          B58 B60        C       4.950416   \n",
            "305      2    113781  151.5500          C22 C26        S     164.728261   \n",
            "306      0     17421  110.8833              NaN        C            NaN   \n",
            "307      0  PC 17758  108.9000              C65        C       6.405882   \n",
            "311      2  PC 17608  262.3750  B57 B59 B63 B66        C      14.576389   \n",
            "318      2     36928  164.8667               C7        S       5.318281   \n",
            "319      1     16966  134.5000              E34        C       3.362500   \n",
            "325      0  PC 17760  135.6333              C32        C       3.767592   \n",
            "332      1  PC 17582  153.4625              C91        S       4.038487   \n",
            "334      0  PC 17611  133.6500              NaN        S            NaN   \n",
            "337      0     16966  134.5000              E40        C       3.280488   \n",
            "341      2     19950  263.0000      C23 C25 C27        S      10.958333   \n",
            "373      0  PC 17760  135.6333              NaN        C       6.165150   \n",
            "377      2    113503  211.5000              C82        C       7.833333   \n",
            "380      0  PC 17757  227.5250              NaN        C       5.417262   \n",
            "390      2    113760  120.0000          B96 B98        S       3.333333   \n",
            "393      0     35273  113.2750              D36        C       4.925000   \n",
            "435      2    113760  120.0000          B96 B98        S       8.571429   \n",
            "438      4     19950  263.0000      C23 C25 C27        S       4.109375   \n",
            "498      2    113781  151.5500          C22 C26        S       6.062000   \n",
            "505      0  PC 17758  108.9000              C65        C       6.050000   \n",
            "527      0  PC 17483  221.7792              C95        S            NaN   \n",
            "537      0  PC 17761  106.4250              NaN        C       3.547500   \n",
            "544      0  PC 17761  106.4250              C86        C       2.128500   \n",
            "550      2     17421  110.8833              C70        C       6.522547   \n",
            "557      0  PC 17757  227.5250              NaN        C            NaN   \n",
            "581      1     17421  110.8833              C68        C       2.843162   \n",
            "609      0  PC 17582  153.4625             C125        S       3.836563   \n",
            "659      2     35273  113.2750              D48        C       1.953017   \n",
            "660      0  PC 17611  133.6500              NaN        S       2.673000   \n",
            "679      1  PC 17755  512.3292      B51 B53 B55        C      14.231367   \n",
            "689      1     24160  211.3375               B5        S      14.089167   \n",
            "698      1     17421  110.8833              C68        C       2.262924   \n",
            "700      0  PC 17757  227.5250          C62 C64        C      12.640278   \n",
            "708      0    113781  151.5500              NaN        S       6.888636   \n",
            "716      0  PC 17757  227.5250              C45        C       5.987500   \n",
            "730      0     24160  211.3375               B5        S       7.287500   \n",
            "737      0  PC 17755  512.3292             B101        C      14.637977   \n",
            "742      2  PC 17608  262.3750  B57 B59 B63 B66        C      12.494048   \n",
            "763      2    113760  120.0000          B96 B98        S       3.333333   \n",
            "779      1     24160  211.3375               B3        S       4.914826   \n",
            "802      2    113760  120.0000          B96 B98        S      10.909091   \n",
            "856      1     36928  164.8667              NaN        S       3.663704   \n",
            "\n",
            "     Fare_per_class Age_Group  \n",
            "27         263.0000     adult  \n",
            "31         146.5208       NaN  \n",
            "88         263.0000     adult  \n",
            "118        247.5208     adult  \n",
            "195        146.5208     adult  \n",
            "215        113.2750     adult  \n",
            "258        512.3292     adult  \n",
            "268        153.4625     adult  \n",
            "269        135.6333     adult  \n",
            "297        151.5500     child  \n",
            "299        247.5208     adult  \n",
            "305        151.5500     child  \n",
            "306        110.8833       NaN  \n",
            "307        108.9000     child  \n",
            "311        262.3750     child  \n",
            "318        164.8667     adult  \n",
            "319        134.5000     adult  \n",
            "325        135.6333     adult  \n",
            "332        153.4625     adult  \n",
            "334        133.6500       NaN  \n",
            "337        134.5000     adult  \n",
            "341        263.0000     adult  \n",
            "373        135.6333     adult  \n",
            "377        211.5000     adult  \n",
            "380        227.5250     adult  \n",
            "390        120.0000     adult  \n",
            "393        113.2750     adult  \n",
            "435        120.0000     child  \n",
            "438        263.0000     adult  \n",
            "498        151.5500     adult  \n",
            "505        108.9000     child  \n",
            "527        221.7792       NaN  \n",
            "537        106.4250     adult  \n",
            "544        106.4250     adult  \n",
            "550        110.8833     child  \n",
            "557        227.5250       NaN  \n",
            "581        110.8833     adult  \n",
            "609        153.4625     adult  \n",
            "659        113.2750     adult  \n",
            "660        133.6500     adult  \n",
            "679        512.3292     adult  \n",
            "689        211.3375     child  \n",
            "698        110.8833     adult  \n",
            "700        227.5250     child  \n",
            "708        151.5500     adult  \n",
            "716        227.5250     adult  \n",
            "730        211.3375     adult  \n",
            "737        512.3292     adult  \n",
            "742        262.3750     adult  \n",
            "763        120.0000     adult  \n",
            "779        211.3375     adult  \n",
            "802        120.0000     child  \n",
            "856        164.8667     adult  \n"
          ]
        }
      ],
      "source": [
        "# subsetting Rows\n",
        "\n",
        "# Filter the Titanic dataset for cases where the passenger’s fare is greater than 100, assigning it to fare gt 100\n",
        "\n",
        "fare_gt_100 = dataset[dataset['Fare'] > 100]\n",
        "print(\"Filtering the dataset for fare greater than 100:\\n\",fare_gt_100)"
      ]
    },
    {
      "cell_type": "code",
      "execution_count": 71,
      "metadata": {
        "colab": {
          "base_uri": "https://localhost:8080/"
        },
        "id": "Wb8RpYtcpqI6",
        "outputId": "aaa1838f-c813-4f67-bc5d-583ea8c88d78"
      },
      "outputs": [
        {
          "name": "stdout",
          "output_type": "stream",
          "text": [
            "Filtering the dataset for passenger's class is 1:\n",
            "      PassengerId  Survived  Pclass  \\\n",
            "1              2         1       1   \n",
            "3              4         1       1   \n",
            "6              7         0       1   \n",
            "11            12         1       1   \n",
            "23            24         1       1   \n",
            "..           ...       ...     ...   \n",
            "871          872         1       1   \n",
            "872          873         0       1   \n",
            "879          880         1       1   \n",
            "887          888         1       1   \n",
            "889          890         1       1   \n",
            "\n",
            "                                                  Name     Sex   Age  SibSp  \\\n",
            "1    Cumings, Mrs. John Bradley (Florence Briggs Th...  female  38.0      1   \n",
            "3         Futrelle, Mrs. Jacques Heath (Lily May Peel)  female  35.0      1   \n",
            "6                              McCarthy, Mr. Timothy J    male  54.0      0   \n",
            "11                            Bonnell, Miss. Elizabeth  female  58.0      0   \n",
            "23                        Sloper, Mr. William Thompson    male  28.0      0   \n",
            "..                                                 ...     ...   ...    ...   \n",
            "871   Beckwith, Mrs. Richard Leonard (Sallie Monypeny)  female  47.0      1   \n",
            "872                           Carlsson, Mr. Frans Olof    male  33.0      0   \n",
            "879      Potter, Mrs. Thomas Jr (Lily Alexenia Wilson)  female  56.0      0   \n",
            "887                       Graham, Miss. Margaret Edith  female  19.0      0   \n",
            "889                              Behr, Mr. Karl Howell    male  26.0      0   \n",
            "\n",
            "     Parch    Ticket     Fare        Cabin Embarked  Fare_per_Year  \\\n",
            "1        0  PC 17599  71.2833          C85        C       1.875876   \n",
            "3        0    113803  53.1000         C123        S       1.517143   \n",
            "6        0     17463  51.8625          E46        S       0.960417   \n",
            "11       0    113783  26.5500         C103        S       0.457759   \n",
            "23       0    113788  35.5000           A6        S       1.267857   \n",
            "..     ...       ...      ...          ...      ...            ...   \n",
            "871      1     11751  52.5542          D35        S       1.118174   \n",
            "872      0       695   5.0000  B51 B53 B55        S       0.151515   \n",
            "879      1     11767  83.1583          C50        C       1.484970   \n",
            "887      0    112053  30.0000          B42        S       1.578947   \n",
            "889      0    111369  30.0000         C148        C       1.153846   \n",
            "\n",
            "     Fare_per_class Age_Group  \n",
            "1           71.2833     adult  \n",
            "3           53.1000     adult  \n",
            "6           51.8625     adult  \n",
            "11          26.5500     adult  \n",
            "23          35.5000     adult  \n",
            "..              ...       ...  \n",
            "871         52.5542     adult  \n",
            "872          5.0000     adult  \n",
            "879         83.1583     adult  \n",
            "887         30.0000     adult  \n",
            "889         30.0000     adult  \n",
            "\n",
            "[216 rows x 15 columns]\n"
          ]
        }
      ],
      "source": [
        "# Filter the Titanic dataset for cases where the passenger’s class (Pclass) is 1, assigning it to first_class\n",
        "\n",
        "first_class = dataset[dataset['Pclass'] == 1]\n",
        "print(\"Filtering the dataset for passenger's class is 1:\\n\", first_class)\n"
      ]
    },
    {
      "cell_type": "code",
      "execution_count": 72,
      "metadata": {
        "colab": {
          "base_uri": "https://localhost:8080/"
        },
        "id": "U7DJ-97fq0oj",
        "outputId": "06958fbf-e70b-470b-933e-68d97f4b069c"
      },
      "outputs": [
        {
          "name": "stdout",
          "output_type": "stream",
          "text": [
            "Filtering the dataset where passenger's age is less than 18 and gender is female:\n",
            "      PassengerId  Survived  Pclass  \\\n",
            "9             10         1       2   \n",
            "10            11         1       3   \n",
            "14            15         0       3   \n",
            "22            23         1       3   \n",
            "24            25         0       3   \n",
            "39            40         1       3   \n",
            "43            44         1       2   \n",
            "58            59         1       2   \n",
            "68            69         1       3   \n",
            "71            72         0       3   \n",
            "84            85         1       2   \n",
            "111          112         0       3   \n",
            "114          115         0       3   \n",
            "119          120         0       3   \n",
            "147          148         0       3   \n",
            "156          157         1       3   \n",
            "172          173         1       3   \n",
            "184          185         1       3   \n",
            "205          206         0       3   \n",
            "208          209         1       3   \n",
            "233          234         1       3   \n",
            "237          238         1       2   \n",
            "297          298         0       1   \n",
            "307          308         1       1   \n",
            "329          330         1       1   \n",
            "374          375         0       3   \n",
            "381          382         1       3   \n",
            "389          390         1       2   \n",
            "419          420         0       3   \n",
            "435          436         1       1   \n",
            "446          447         1       2   \n",
            "448          449         1       3   \n",
            "469          470         1       3   \n",
            "479          480         1       3   \n",
            "504          505         1       1   \n",
            "530          531         1       2   \n",
            "535          536         1       2   \n",
            "541          542         0       3   \n",
            "542          543         0       3   \n",
            "618          619         1       2   \n",
            "634          635         0       3   \n",
            "642          643         0       3   \n",
            "644          645         1       3   \n",
            "689          690         1       1   \n",
            "691          692         1       3   \n",
            "720          721         1       2   \n",
            "750          751         1       2   \n",
            "777          778         1       3   \n",
            "780          781         1       3   \n",
            "781          782         1       1   \n",
            "813          814         0       3   \n",
            "830          831         1       3   \n",
            "852          853         0       3   \n",
            "853          854         1       1   \n",
            "875          876         1       3   \n",
            "\n",
            "                                                  Name     Sex    Age  SibSp  \\\n",
            "9                  Nasser, Mrs. Nicholas (Adele Achem)  female  14.00      1   \n",
            "10                     Sandstrom, Miss. Marguerite Rut  female   4.00      1   \n",
            "14                Vestrom, Miss. Hulda Amanda Adolfina  female  14.00      0   \n",
            "22                         McGowan, Miss. Anna \"Annie\"  female  15.00      0   \n",
            "24                       Palsson, Miss. Torborg Danira  female   8.00      3   \n",
            "39                         Nicola-Yarred, Miss. Jamila  female  14.00      1   \n",
            "43            Laroche, Miss. Simonne Marie Anne Andree  female   3.00      1   \n",
            "58                        West, Miss. Constance Mirium  female   5.00      1   \n",
            "68                     Andersson, Miss. Erna Alexandra  female  17.00      4   \n",
            "71                          Goodwin, Miss. Lillian Amy  female  16.00      5   \n",
            "84                                 Ilett, Miss. Bertha  female  17.00      0   \n",
            "111                               Zabour, Miss. Hileni  female  14.50      1   \n",
            "114                              Attalah, Miss. Malake  female  17.00      0   \n",
            "119                  Andersson, Miss. Ellis Anna Maria  female   2.00      4   \n",
            "147                   Ford, Miss. Robina Maggie \"Ruby\"  female   9.00      2   \n",
            "156                   Gilnagh, Miss. Katherine \"Katie\"  female  16.00      0   \n",
            "172                       Johnson, Miss. Eleanor Ileen  female   1.00      1   \n",
            "184                Kink-Heilmann, Miss. Luise Gretchen  female   4.00      0   \n",
            "205                         Strom, Miss. Telma Matilda  female   2.00      0   \n",
            "208                          Carr, Miss. Helen \"Ellen\"  female  16.00      0   \n",
            "233                     Asplund, Miss. Lillian Gertrud  female   5.00      4   \n",
            "237                   Collyer, Miss. Marjorie \"Lottie\"  female   8.00      0   \n",
            "297                       Allison, Miss. Helen Loraine  female   2.00      1   \n",
            "307  Penasco y Castellana, Mrs. Victor de Satode (M...  female  17.00      1   \n",
            "329                       Hippach, Miss. Jean Gertrude  female  16.00      0   \n",
            "374                         Palsson, Miss. Stina Viola  female   3.00      3   \n",
            "381                        Nakid, Miss. Maria (\"Mary\")  female   1.00      0   \n",
            "389                              Lehmann, Miss. Bertha  female  17.00      0   \n",
            "419                          Van Impe, Miss. Catharina  female  10.00      0   \n",
            "435                          Carter, Miss. Lucile Polk  female  14.00      1   \n",
            "446                  Mellinger, Miss. Madeleine Violet  female  13.00      0   \n",
            "448                     Baclini, Miss. Marie Catherine  female   5.00      2   \n",
            "469                      Baclini, Miss. Helene Barbara  female   0.75      2   \n",
            "479                           Hirvonen, Miss. Hildur E  female   2.00      0   \n",
            "504                              Maioni, Miss. Roberta  female  16.00      0   \n",
            "530                           Quick, Miss. Phyllis May  female   2.00      1   \n",
            "535                             Hart, Miss. Eva Miriam  female   7.00      0   \n",
            "541               Andersson, Miss. Ingeborg Constanzia  female   9.00      4   \n",
            "542                  Andersson, Miss. Sigrid Elisabeth  female  11.00      4   \n",
            "618                        Becker, Miss. Marion Louise  female   4.00      2   \n",
            "634                                 Skoog, Miss. Mabel  female   9.00      3   \n",
            "642                      Skoog, Miss. Margit Elizabeth  female   2.00      3   \n",
            "644                             Baclini, Miss. Eugenie  female   0.75      2   \n",
            "689                  Madill, Miss. Georgette Alexandra  female  15.00      0   \n",
            "691                                 Karun, Miss. Manca  female   4.00      0   \n",
            "720                  Harper, Miss. Annie Jessie \"Nina\"  female   6.00      0   \n",
            "750                                  Wells, Miss. Joan  female   4.00      1   \n",
            "777                      Emanuel, Miss. Virginia Ethel  female   5.00      0   \n",
            "780                               Ayoub, Miss. Banoura  female  13.00      0   \n",
            "781          Dick, Mrs. Albert Adrian (Vera Gillespie)  female  17.00      1   \n",
            "813                 Andersson, Miss. Ebba Iris Alfrida  female   6.00      4   \n",
            "830            Yasbeck, Mrs. Antoni (Selini Alexander)  female  15.00      1   \n",
            "852                            Boulos, Miss. Nourelain  female   9.00      1   \n",
            "853                          Lines, Miss. Mary Conover  female  16.00      0   \n",
            "875                   Najib, Miss. Adele Kiamie \"Jane\"  female  15.00      0   \n",
            "\n",
            "     Parch         Ticket      Fare    Cabin Embarked  Fare_per_Year  \\\n",
            "9        0         237736   30.0708      NaN        C       2.147914   \n",
            "10       1        PP 9549   16.7000       G6        S       4.175000   \n",
            "14       0         350406    7.8542      NaN        S       0.561014   \n",
            "22       0         330923    8.0292      NaN        Q       0.535280   \n",
            "24       1         349909   21.0750      NaN        S       2.634375   \n",
            "39       0           2651   11.2417      NaN        C       0.802979   \n",
            "43       2  SC/Paris 2123   41.5792      NaN        C      13.859733   \n",
            "58       2     C.A. 34651   27.7500      NaN        S       5.550000   \n",
            "68       2        3101281    7.9250      NaN        S       0.466176   \n",
            "71       2        CA 2144   46.9000      NaN        S       2.931250   \n",
            "84       0     SO/C 14885   10.5000      NaN        S       0.617647   \n",
            "111      0           2665   14.4542      NaN        C       0.996841   \n",
            "114      0           2627   14.4583      NaN        C       0.850488   \n",
            "119      2         347082   31.2750      NaN        S      15.637500   \n",
            "147      2     W./C. 6608   34.3750      NaN        S       3.819444   \n",
            "156      0          35851    7.7333      NaN        Q       0.483331   \n",
            "172      1         347742   11.1333      NaN        S      11.133300   \n",
            "184      2         315153   22.0250      NaN        S       5.506250   \n",
            "205      1         347054   10.4625       G6        S       5.231250   \n",
            "208      0         367231    7.7500      NaN        Q       0.484375   \n",
            "233      2         347077   31.3875      NaN        S       6.277500   \n",
            "237      2     C.A. 31921   26.2500      NaN        S       3.281250   \n",
            "297      2         113781  151.5500  C22 C26        S      75.775000   \n",
            "307      0       PC 17758  108.9000      C65        C       6.405882   \n",
            "329      1         111361   57.9792      B18        C       3.623700   \n",
            "374      1         349909   21.0750      NaN        S       7.025000   \n",
            "381      2           2653   15.7417      NaN        C      15.741700   \n",
            "389      0        SC 1748   12.0000      NaN        C       0.705882   \n",
            "419      2         345773   24.1500      NaN        S       2.415000   \n",
            "435      2         113760  120.0000  B96 B98        S       8.571429   \n",
            "446      1         250644   19.5000      NaN        S       1.500000   \n",
            "448      1           2666   19.2583      NaN        C       3.851660   \n",
            "469      1           2666   19.2583      NaN        C      25.677733   \n",
            "479      1        3101298   12.2875      NaN        S       6.143750   \n",
            "504      0         110152   86.5000      B79        S       5.406250   \n",
            "530      1          26360   26.0000      NaN        S      13.000000   \n",
            "535      2   F.C.C. 13529   26.2500      NaN        S       3.750000   \n",
            "541      2         347082   31.2750      NaN        S       3.475000   \n",
            "542      2         347082   31.2750      NaN        S       2.843182   \n",
            "618      1         230136   39.0000       F4        S       9.750000   \n",
            "634      2         347088   27.9000      NaN        S       3.100000   \n",
            "642      2         347088   27.9000      NaN        S      13.950000   \n",
            "644      1           2666   19.2583      NaN        C      25.677733   \n",
            "689      1          24160  211.3375       B5        S      14.089167   \n",
            "691      1         349256   13.4167      NaN        C       3.354175   \n",
            "720      1         248727   33.0000      NaN        S       5.500000   \n",
            "750      1          29103   23.0000      NaN        S       5.750000   \n",
            "777      0         364516   12.4750      NaN        S       2.495000   \n",
            "780      0           2687    7.2292      NaN        C       0.556092   \n",
            "781      0          17474   57.0000      B20        S       3.352941   \n",
            "813      2         347082   31.2750      NaN        S       5.212500   \n",
            "830      0           2659   14.4542      NaN        C       0.963613   \n",
            "852      1           2678   15.2458      NaN        C       1.693978   \n",
            "853      1       PC 17592   39.4000      D28        S       2.462500   \n",
            "875      0           2667    7.2250      NaN        C       0.481667   \n",
            "\n",
            "     Fare_per_class Age_Group  \n",
            "9         15.035400     child  \n",
            "10         5.566667     child  \n",
            "14         2.618067     child  \n",
            "22         2.676400     child  \n",
            "24         7.025000     child  \n",
            "39         3.747233     child  \n",
            "43        20.789600     child  \n",
            "58        13.875000     child  \n",
            "68         2.641667     child  \n",
            "71        15.633333     child  \n",
            "84         5.250000     child  \n",
            "111        4.818067     child  \n",
            "114        4.819433     child  \n",
            "119       10.425000     child  \n",
            "147       11.458333     child  \n",
            "156        2.577767     child  \n",
            "172        3.711100     child  \n",
            "184        7.341667     child  \n",
            "205        3.487500     child  \n",
            "208        2.583333     child  \n",
            "233       10.462500     child  \n",
            "237       13.125000     child  \n",
            "297      151.550000     child  \n",
            "307      108.900000     child  \n",
            "329       57.979200     child  \n",
            "374        7.025000     child  \n",
            "381        5.247233     child  \n",
            "389        6.000000     child  \n",
            "419        8.050000     child  \n",
            "435      120.000000     child  \n",
            "446        9.750000     child  \n",
            "448        6.419433     child  \n",
            "469        6.419433     child  \n",
            "479        4.095833     child  \n",
            "504       86.500000     child  \n",
            "530       13.000000     child  \n",
            "535       13.125000     child  \n",
            "541       10.425000     child  \n",
            "542       10.425000     child  \n",
            "618       19.500000     child  \n",
            "634        9.300000     child  \n",
            "642        9.300000     child  \n",
            "644        6.419433     child  \n",
            "689      211.337500     child  \n",
            "691        4.472233     child  \n",
            "720       16.500000     child  \n",
            "750       11.500000     child  \n",
            "777        4.158333     child  \n",
            "780        2.409733     child  \n",
            "781       57.000000     child  \n",
            "813       10.425000     child  \n",
            "830        4.818067     child  \n",
            "852        5.081933     child  \n",
            "853       39.400000     child  \n",
            "875        2.408333     child  \n"
          ]
        }
      ],
      "source": [
        "# the passenger’s age is less than 18 and the passenger is female (Sex is \"female\"), assigning it to female under 18.\n",
        "\n",
        "female_under_18 = dataset[(dataset['Age'] < 18) & (dataset['Sex'] == 'female')]\n",
        "print(\"Filtering the dataset where passenger's age is less than 18 and gender is female:\\n\", female_under_18)"
      ]
    },
    {
      "cell_type": "code",
      "execution_count": 73,
      "metadata": {
        "colab": {
          "base_uri": "https://localhost:8080/"
        },
        "id": "h4MJf9n1tZXE",
        "outputId": "9619cac0-43d5-4df2-c6c7-5786cb342fa6"
      },
      "outputs": [
        {
          "name": "stdout",
          "output_type": "stream",
          "text": [
            "Filtering the dataset for passengers whose embarked port is either C or S:\n",
            "      PassengerId  Survived  Pclass  \\\n",
            "0              1         0       3   \n",
            "1              2         1       1   \n",
            "2              3         1       3   \n",
            "3              4         1       1   \n",
            "4              5         0       3   \n",
            "..           ...       ...     ...   \n",
            "884          885         0       3   \n",
            "886          887         0       2   \n",
            "887          888         1       1   \n",
            "888          889         0       3   \n",
            "889          890         1       1   \n",
            "\n",
            "                                                  Name     Sex   Age  SibSp  \\\n",
            "0                              Braund, Mr. Owen Harris    male  22.0      1   \n",
            "1    Cumings, Mrs. John Bradley (Florence Briggs Th...  female  38.0      1   \n",
            "2                               Heikkinen, Miss. Laina  female  26.0      0   \n",
            "3         Futrelle, Mrs. Jacques Heath (Lily May Peel)  female  35.0      1   \n",
            "4                             Allen, Mr. William Henry    male  35.0      0   \n",
            "..                                                 ...     ...   ...    ...   \n",
            "884                             Sutehall, Mr. Henry Jr    male  25.0      0   \n",
            "886                              Montvila, Rev. Juozas    male  27.0      0   \n",
            "887                       Graham, Miss. Margaret Edith  female  19.0      0   \n",
            "888           Johnston, Miss. Catherine Helen \"Carrie\"  female   NaN      1   \n",
            "889                              Behr, Mr. Karl Howell    male  26.0      0   \n",
            "\n",
            "     Parch            Ticket     Fare Cabin Embarked  Fare_per_Year  \\\n",
            "0        0         A/5 21171   7.2500   NaN        S       0.329545   \n",
            "1        0          PC 17599  71.2833   C85        C       1.875876   \n",
            "2        0  STON/O2. 3101282   7.9250   NaN        S       0.304808   \n",
            "3        0            113803  53.1000  C123        S       1.517143   \n",
            "4        0            373450   8.0500   NaN        S       0.230000   \n",
            "..     ...               ...      ...   ...      ...            ...   \n",
            "884      0   SOTON/OQ 392076   7.0500   NaN        S       0.282000   \n",
            "886      0            211536  13.0000   NaN        S       0.481481   \n",
            "887      0            112053  30.0000   B42        S       1.578947   \n",
            "888      2        W./C. 6607  23.4500   NaN        S            NaN   \n",
            "889      0            111369  30.0000  C148        C       1.153846   \n",
            "\n",
            "     Fare_per_class Age_Group  \n",
            "0          2.416667     adult  \n",
            "1         71.283300     adult  \n",
            "2          2.641667     adult  \n",
            "3         53.100000     adult  \n",
            "4          2.683333     adult  \n",
            "..              ...       ...  \n",
            "884        2.350000     adult  \n",
            "886        6.500000     adult  \n",
            "887       30.000000     adult  \n",
            "888        7.816667       NaN  \n",
            "889       30.000000     adult  \n",
            "\n",
            "[812 rows x 15 columns]\n"
          ]
        }
      ],
      "source": [
        "# Subsetting Rows by Categorical variables\n",
        "\n",
        "# Filter for passengers whose Embarked port is either \"C\" (Cherbourg) or \"S\" (Southampton) and assign it to embarked_c_or_s\n",
        "\n",
        "embarked_c_or_s = dataset[(dataset['Embarked'] == 'C') | (dataset['Embarked'] == 'S')]\n",
        "print(\"Filtering the dataset for passengers whose embarked port is either C or S:\\n\", embarked_c_or_s)"
      ]
    },
    {
      "cell_type": "code",
      "execution_count": 74,
      "metadata": {
        "colab": {
          "base_uri": "https://localhost:8080/"
        },
        "id": "dUTDfHiYu2DL",
        "outputId": "b82286a3-a78b-4479-b68f-f84ce163cc9e"
      },
      "outputs": [
        {
          "name": "stdout",
          "output_type": "stream",
          "text": [
            "Filtering the dataset for passengers whose Pclass is in the list[1,2]:\n",
            "      PassengerId  Survived  Pclass  \\\n",
            "1              2         1       1   \n",
            "3              4         1       1   \n",
            "6              7         0       1   \n",
            "9             10         1       2   \n",
            "11            12         1       1   \n",
            "..           ...       ...     ...   \n",
            "880          881         1       2   \n",
            "883          884         0       2   \n",
            "886          887         0       2   \n",
            "887          888         1       1   \n",
            "889          890         1       1   \n",
            "\n",
            "                                                  Name     Sex   Age  SibSp  \\\n",
            "1    Cumings, Mrs. John Bradley (Florence Briggs Th...  female  38.0      1   \n",
            "3         Futrelle, Mrs. Jacques Heath (Lily May Peel)  female  35.0      1   \n",
            "6                              McCarthy, Mr. Timothy J    male  54.0      0   \n",
            "9                  Nasser, Mrs. Nicholas (Adele Achem)  female  14.0      1   \n",
            "11                            Bonnell, Miss. Elizabeth  female  58.0      0   \n",
            "..                                                 ...     ...   ...    ...   \n",
            "880       Shelley, Mrs. William (Imanita Parrish Hall)  female  25.0      0   \n",
            "883                      Banfield, Mr. Frederick James    male  28.0      0   \n",
            "886                              Montvila, Rev. Juozas    male  27.0      0   \n",
            "887                       Graham, Miss. Margaret Edith  female  19.0      0   \n",
            "889                              Behr, Mr. Karl Howell    male  26.0      0   \n",
            "\n",
            "     Parch            Ticket     Fare Cabin Embarked  Fare_per_Year  \\\n",
            "1        0          PC 17599  71.2833   C85        C       1.875876   \n",
            "3        0            113803  53.1000  C123        S       1.517143   \n",
            "6        0             17463  51.8625   E46        S       0.960417   \n",
            "9        0            237736  30.0708   NaN        C       2.147914   \n",
            "11       0            113783  26.5500  C103        S       0.457759   \n",
            "..     ...               ...      ...   ...      ...            ...   \n",
            "880      1            230433  26.0000   NaN        S       1.040000   \n",
            "883      0  C.A./SOTON 34068  10.5000   NaN        S       0.375000   \n",
            "886      0            211536  13.0000   NaN        S       0.481481   \n",
            "887      0            112053  30.0000   B42        S       1.578947   \n",
            "889      0            111369  30.0000  C148        C       1.153846   \n",
            "\n",
            "     Fare_per_class Age_Group  \n",
            "1           71.2833     adult  \n",
            "3           53.1000     adult  \n",
            "6           51.8625     adult  \n",
            "9           15.0354     child  \n",
            "11          26.5500     adult  \n",
            "..              ...       ...  \n",
            "880         13.0000     adult  \n",
            "883          5.2500     adult  \n",
            "886          6.5000     adult  \n",
            "887         30.0000     adult  \n",
            "889         30.0000     adult  \n",
            "\n",
            "[400 rows x 15 columns]\n"
          ]
        }
      ],
      "source": [
        "# filter for passengers whose Pclass is in the list [1, 2] (indicating first or second class)\n",
        "\n",
        "first_second_class = dataset[dataset['Pclass'].isin([1, 2])]\n",
        "print(\"Filtering the dataset for passengers whose Pclass is in the list[1,2]:\\n\", first_second_class)"
      ]
    },
    {
      "cell_type": "markdown",
      "metadata": {
        "id": "8q7zozY6vjq4"
      },
      "source": [
        "#3.2 Exploratory Data Analysis\n",
        "##Practice Exercise - 1\n",
        "\n",
        "Which passenger had the highest fare paid relative to their age?\n",
        "\n",
        "To answer the question perform following operations:\n",
        "1. Add a column to the Titanic dataset, fare per year, containing the fare divided by the age of\n",
        "the passenger(i.e., Fare/Age).\n",
        "2. Subset rows where fare per year is higher than 5, assigning this to high fare age.\n",
        "3. Sort high fare age by descending fare per year, assigning this to high fare age srt.\n",
        "4. Select only the Name and fare per year columns of high fare age srt and save the result as result.\n",
        "5. Look at the result.\n"
      ]
    },
    {
      "cell_type": "code",
      "execution_count": 75,
      "metadata": {
        "colab": {
          "base_uri": "https://localhost:8080/"
        },
        "id": "ld3GgOfovjTD",
        "outputId": "c5971fc2-1025-48c7-87cf-2837ca509855"
      },
      "outputs": [
        {
          "name": "stdout",
          "output_type": "stream",
          "text": [
            "The dataset with added colum fare per year is:\n",
            "    PassengerId  Survived  Pclass  \\\n",
            "0            1         0       3   \n",
            "1            2         1       1   \n",
            "2            3         1       3   \n",
            "3            4         1       1   \n",
            "4            5         0       3   \n",
            "\n",
            "                                                Name     Sex   Age  SibSp  \\\n",
            "0                            Braund, Mr. Owen Harris    male  22.0      1   \n",
            "1  Cumings, Mrs. John Bradley (Florence Briggs Th...  female  38.0      1   \n",
            "2                             Heikkinen, Miss. Laina  female  26.0      0   \n",
            "3       Futrelle, Mrs. Jacques Heath (Lily May Peel)  female  35.0      1   \n",
            "4                           Allen, Mr. William Henry    male  35.0      0   \n",
            "\n",
            "   Parch            Ticket     Fare Cabin Embarked  Fare_per_Year  \\\n",
            "0      0         A/5 21171   7.2500   NaN        S       0.329545   \n",
            "1      0          PC 17599  71.2833   C85        C       1.875876   \n",
            "2      0  STON/O2. 3101282   7.9250   NaN        S       0.304808   \n",
            "3      0            113803  53.1000  C123        S       1.517143   \n",
            "4      0            373450   8.0500   NaN        S       0.230000   \n",
            "\n",
            "   Fare_per_class Age_Group  \n",
            "0        2.416667     adult  \n",
            "1       71.283300     adult  \n",
            "2        2.641667     adult  \n",
            "3       53.100000     adult  \n",
            "4        2.683333     adult  \n"
          ]
        }
      ],
      "source": [
        "# Add a column for fare per year, containing the fare divided by the age of the passenger\n",
        "\n",
        "dataset['Fare_per_Year'] = dataset['Fare'] / dataset['Age']\n",
        "print(\"The dataset with added colum fare per year is:\\n\",dataset.head())"
      ]
    },
    {
      "cell_type": "code",
      "execution_count": 76,
      "metadata": {
        "colab": {
          "base_uri": "https://localhost:8080/"
        },
        "id": "SaU54aDuxEnl",
        "outputId": "a6b7a124-72a2-4246-88b1-4bb58a343391"
      },
      "outputs": [
        {
          "name": "stdout",
          "output_type": "stream",
          "text": [
            "The subset of rows where fare_per_Year is higher than 5 is:\n",
            "      PassengerId  Survived  Pclass                                      Name  \\\n",
            "7              8         0       3            Palsson, Master. Gosta Leonard   \n",
            "16            17         0       3                      Rice, Master. Eugene   \n",
            "27            28         0       1            Fortune, Mr. Charles Alexander   \n",
            "43            44         1       2  Laroche, Miss. Simonne Marie Anne Andree   \n",
            "50            51         0       3                Panula, Master. Juha Niilo   \n",
            "..           ...       ...     ...                                       ...   \n",
            "813          814         0       3        Andersson, Miss. Ebba Iris Alfrida   \n",
            "824          825         0       3              Panula, Master. Urho Abraham   \n",
            "827          828         1       2                     Mallet, Master. Andre   \n",
            "831          832         1       2           Richards, Master. George Sibley   \n",
            "850          851         0       3   Andersson, Master. Sigvard Harald Elias   \n",
            "\n",
            "        Sex    Age  SibSp  Parch           Ticket      Fare        Cabin  \\\n",
            "7      male   2.00      3      1           349909   21.0750          NaN   \n",
            "16     male   2.00      4      1           382652   29.1250          NaN   \n",
            "27     male  19.00      3      2            19950  263.0000  C23 C25 C27   \n",
            "43   female   3.00      1      2    SC/Paris 2123   41.5792          NaN   \n",
            "50     male   7.00      4      1          3101295   39.6875          NaN   \n",
            "..      ...    ...    ...    ...              ...       ...          ...   \n",
            "813  female   6.00      4      2           347082   31.2750          NaN   \n",
            "824    male   2.00      4      1          3101295   39.6875          NaN   \n",
            "827    male   1.00      0      2  S.C./PARIS 2079   37.0042          NaN   \n",
            "831    male   0.83      1      1            29106   18.7500          NaN   \n",
            "850    male   4.00      4      2           347082   31.2750          NaN   \n",
            "\n",
            "    Embarked  Fare_per_Year  Fare_per_class Age_Group  \n",
            "7          S      10.537500        7.025000     child  \n",
            "16         Q      14.562500        9.708333     child  \n",
            "27         S      13.842105      263.000000     adult  \n",
            "43         C      13.859733       20.789600     child  \n",
            "50         S       5.669643       13.229167     child  \n",
            "..       ...            ...             ...       ...  \n",
            "813        S       5.212500       10.425000     child  \n",
            "824        S      19.843750       13.229167     child  \n",
            "827        C      37.004200       18.502100     child  \n",
            "831        S      22.590361        9.375000     child  \n",
            "850        S       7.818750       10.425000     child  \n",
            "\n",
            "[68 rows x 15 columns]\n"
          ]
        }
      ],
      "source": [
        "# Subset rows where fare per year is higher than 5, assigning this to high_fare_age\n",
        "\n",
        "high_fare_age = dataset[dataset['Fare_per_Year'] > 5]\n",
        "print(\"The subset of rows where fare_per_Year is higher than 5 is:\\n\", high_fare_age)"
      ]
    },
    {
      "cell_type": "code",
      "execution_count": 77,
      "metadata": {
        "colab": {
          "base_uri": "https://localhost:8080/"
        },
        "id": "OJxa_MJoxeS7",
        "outputId": "db8454fc-66cd-47ab-facb-56b0c1f8e947"
      },
      "outputs": [
        {
          "name": "stdout",
          "output_type": "stream",
          "text": [
            "Sorting high fare age in descending order:\n",
            "      PassengerId  Survived  Pclass                                    Name  \\\n",
            "305          306         1       1          Allison, Master. Hudson Trevor   \n",
            "297          298         0       1            Allison, Miss. Helen Loraine   \n",
            "386          387         0       3         Goodwin, Master. Sidney Leonard   \n",
            "164          165         0       3            Panula, Master. Eino Viljami   \n",
            "183          184         1       2               Becker, Master. Richard F   \n",
            "..           ...       ...     ...                                     ...   \n",
            "318          319         1       1                Wick, Miss. Mary Natalie   \n",
            "348          349         1       3  Coutts, Master. William Loch \"William\"   \n",
            "205          206         0       3              Strom, Miss. Telma Matilda   \n",
            "813          814         0       3      Andersson, Miss. Ebba Iris Alfrida   \n",
            "480          481         0       3          Goodwin, Master. Harold Victor   \n",
            "\n",
            "        Sex    Age  SibSp  Parch      Ticket      Fare    Cabin Embarked  \\\n",
            "305    male   0.92      1      2      113781  151.5500  C22 C26        S   \n",
            "297  female   2.00      1      2      113781  151.5500  C22 C26        S   \n",
            "386    male   1.00      5      2     CA 2144   46.9000      NaN        S   \n",
            "164    male   1.00      4      1     3101295   39.6875      NaN        S   \n",
            "183    male   1.00      2      1      230136   39.0000       F4        S   \n",
            "..      ...    ...    ...    ...         ...       ...      ...      ...   \n",
            "318  female  31.00      0      2       36928  164.8667       C7        S   \n",
            "348    male   3.00      1      1  C.A. 37671   15.9000      NaN        S   \n",
            "205  female   2.00      0      1      347054   10.4625       G6        S   \n",
            "813  female   6.00      4      2      347082   31.2750      NaN        S   \n",
            "480    male   9.00      5      2     CA 2144   46.9000      NaN        S   \n",
            "\n",
            "     Fare_per_Year  Fare_per_class Age_Group  \n",
            "305     164.728261      151.550000     child  \n",
            "297      75.775000      151.550000     child  \n",
            "386      46.900000       15.633333     child  \n",
            "164      39.687500       13.229167     child  \n",
            "183      39.000000       19.500000     child  \n",
            "..             ...             ...       ...  \n",
            "318       5.318281      164.866700     adult  \n",
            "348       5.300000        5.300000     child  \n",
            "205       5.231250        3.487500     child  \n",
            "813       5.212500       10.425000     child  \n",
            "480       5.211111       15.633333     child  \n",
            "\n",
            "[68 rows x 15 columns]\n"
          ]
        }
      ],
      "source": [
        "# Sort high fare age by descending fare per year, assigning this to high fare age srt.\n",
        "\n",
        "high_fare_age_srt = high_fare_age.sort_values(by='Fare_per_Year', ascending=False)\n",
        "print(\"Sorting high fare age in descending order:\\n\",high_fare_age_srt)"
      ]
    },
    {
      "cell_type": "code",
      "execution_count": 78,
      "metadata": {
        "colab": {
          "base_uri": "https://localhost:8080/"
        },
        "id": "LoX3MOStx3lK",
        "outputId": "105cdd0e-81c6-4d52-f1e6-b64675fd5bc2"
      },
      "outputs": [
        {
          "name": "stdout",
          "output_type": "stream",
          "text": [
            "Result of selecting only the Name and Fare_per_Year is:\n",
            "                                        Name  Fare_per_Year\n",
            "305          Allison, Master. Hudson Trevor     164.728261\n",
            "297            Allison, Miss. Helen Loraine      75.775000\n",
            "386         Goodwin, Master. Sidney Leonard      46.900000\n",
            "164            Panula, Master. Eino Viljami      39.687500\n",
            "183               Becker, Master. Richard F      39.000000\n",
            "..                                      ...            ...\n",
            "318                Wick, Miss. Mary Natalie       5.318281\n",
            "348  Coutts, Master. William Loch \"William\"       5.300000\n",
            "205              Strom, Miss. Telma Matilda       5.231250\n",
            "813      Andersson, Miss. Ebba Iris Alfrida       5.212500\n",
            "480          Goodwin, Master. Harold Victor       5.211111\n",
            "\n",
            "[68 rows x 2 columns]\n"
          ]
        }
      ],
      "source": [
        "# Select only the Name and fare per year columns of high fare age srt and save the result as result.\n",
        "\n",
        "result = high_fare_age_srt[['Name', 'Fare_per_Year']]\n",
        "print(\"Result of selecting only the Name and Fare_per_Year is:\\n\",result)"
      ]
    },
    {
      "cell_type": "markdown",
      "metadata": {
        "id": "12hPvN_J0Ewl"
      },
      "source": [
        "Here, Allison, Master. Hudson Trevor has the highest fare paid relative to age."
      ]
    },
    {
      "cell_type": "markdown",
      "metadata": {
        "id": "POZHLt01vyvH"
      },
      "source": [
        "Which adult male passenger (age ≥ 18 and Sex is ’male’) paid the highest fare relative to their\n",
        "class?\n",
        "\n",
        "To answer the question perform following operations:\n",
        "1. Add a column to the Titanic dataset, fare per class, containing the fare divided by the passenger\n",
        "class i.e. Fare / Pclass.\n",
        "2. Subset rows where the passenger is male (Sex is ”male”) and an adult (Age is greater than or equal\n",
        "to 18), assigning this to adult males.\n",
        "3. Sort adult males by descending fare per class, assigning this to adult males srt.\n",
        "4. Select only the Name, Age, and fare per class columns of adult males srt and save the result\n",
        "as result.\n",
        "5. Look at the result."
      ]
    },
    {
      "cell_type": "code",
      "execution_count": 80,
      "metadata": {
        "colab": {
          "base_uri": "https://localhost:8080/"
        },
        "id": "M3LZg711ye5q",
        "outputId": "c4c91133-e061-436f-b5aa-b74bba63590e"
      },
      "outputs": [
        {
          "name": "stdout",
          "output_type": "stream",
          "text": [
            "Dataset after adding new column Fare_per_class is:\n",
            "    PassengerId  Survived  Pclass  \\\n",
            "0            1         0       3   \n",
            "1            2         1       1   \n",
            "2            3         1       3   \n",
            "3            4         1       1   \n",
            "4            5         0       3   \n",
            "\n",
            "                                                Name     Sex   Age  SibSp  \\\n",
            "0                            Braund, Mr. Owen Harris    male  22.0      1   \n",
            "1  Cumings, Mrs. John Bradley (Florence Briggs Th...  female  38.0      1   \n",
            "2                             Heikkinen, Miss. Laina  female  26.0      0   \n",
            "3       Futrelle, Mrs. Jacques Heath (Lily May Peel)  female  35.0      1   \n",
            "4                           Allen, Mr. William Henry    male  35.0      0   \n",
            "\n",
            "   Parch            Ticket     Fare Cabin Embarked  Fare_per_Year  \\\n",
            "0      0         A/5 21171   7.2500   NaN        S       0.329545   \n",
            "1      0          PC 17599  71.2833   C85        C       1.875876   \n",
            "2      0  STON/O2. 3101282   7.9250   NaN        S       0.304808   \n",
            "3      0            113803  53.1000  C123        S       1.517143   \n",
            "4      0            373450   8.0500   NaN        S       0.230000   \n",
            "\n",
            "   Fare_per_class Age_Group  \n",
            "0        2.416667     adult  \n",
            "1       71.283300     adult  \n",
            "2        2.641667     adult  \n",
            "3       53.100000     adult  \n",
            "4        2.683333     adult  \n"
          ]
        }
      ],
      "source": [
        "# add a column for fare_per_class, containing the fare divided by the passenger class\n",
        "\n",
        "dataset['Fare_per_class'] = dataset['Fare'] / dataset['Pclass']\n",
        "print(\"Dataset after adding new column Fare_per_class is:\\n\", dataset.head())"
      ]
    },
    {
      "cell_type": "code",
      "execution_count": 81,
      "metadata": {
        "colab": {
          "base_uri": "https://localhost:8080/"
        },
        "id": "xXDkauG-z4NZ",
        "outputId": "16923245-d858-4245-b2bd-96d042fc9ed7"
      },
      "outputs": [
        {
          "name": "stdout",
          "output_type": "stream",
          "text": [
            "Subset of rows where passenger is an adult male is:\n",
            "      PassengerId  Survived  Pclass                            Name   Sex  \\\n",
            "0              1         0       3         Braund, Mr. Owen Harris  male   \n",
            "4              5         0       3        Allen, Mr. William Henry  male   \n",
            "6              7         0       1         McCarthy, Mr. Timothy J  male   \n",
            "12            13         0       3  Saundercock, Mr. William Henry  male   \n",
            "13            14         0       3     Andersson, Mr. Anders Johan  male   \n",
            "..           ...       ...     ...                             ...   ...   \n",
            "883          884         0       2   Banfield, Mr. Frederick James  male   \n",
            "884          885         0       3          Sutehall, Mr. Henry Jr  male   \n",
            "886          887         0       2           Montvila, Rev. Juozas  male   \n",
            "889          890         1       1           Behr, Mr. Karl Howell  male   \n",
            "890          891         0       3             Dooley, Mr. Patrick  male   \n",
            "\n",
            "      Age  SibSp  Parch            Ticket     Fare Cabin Embarked  \\\n",
            "0    22.0      1      0         A/5 21171   7.2500   NaN        S   \n",
            "4    35.0      0      0            373450   8.0500   NaN        S   \n",
            "6    54.0      0      0             17463  51.8625   E46        S   \n",
            "12   20.0      0      0         A/5. 2151   8.0500   NaN        S   \n",
            "13   39.0      1      5            347082  31.2750   NaN        S   \n",
            "..    ...    ...    ...               ...      ...   ...      ...   \n",
            "883  28.0      0      0  C.A./SOTON 34068  10.5000   NaN        S   \n",
            "884  25.0      0      0   SOTON/OQ 392076   7.0500   NaN        S   \n",
            "886  27.0      0      0            211536  13.0000   NaN        S   \n",
            "889  26.0      0      0            111369  30.0000  C148        C   \n",
            "890  32.0      0      0            370376   7.7500   NaN        Q   \n",
            "\n",
            "     Fare_per_Year  Fare_per_class Age_Group  \n",
            "0         0.329545        2.416667     adult  \n",
            "4         0.230000        2.683333     adult  \n",
            "6         0.960417       51.862500     adult  \n",
            "12        0.402500        2.683333     adult  \n",
            "13        0.801923       10.425000     adult  \n",
            "..             ...             ...       ...  \n",
            "883       0.375000        5.250000     adult  \n",
            "884       0.282000        2.350000     adult  \n",
            "886       0.481481        6.500000     adult  \n",
            "889       1.153846       30.000000     adult  \n",
            "890       0.242188        2.583333     adult  \n",
            "\n",
            "[395 rows x 15 columns]\n"
          ]
        }
      ],
      "source": [
        "# subset rows wehre passenger is male and an adult and assert to adult_males\n",
        "\n",
        "adult_males = dataset[(dataset['Sex'] == \"male\") & (dataset['Age'] >= 18)]\n",
        "print(\"Subset of rows where passenger is an adult male is:\\n\", adult_males)"
      ]
    },
    {
      "cell_type": "code",
      "execution_count": 82,
      "metadata": {
        "colab": {
          "base_uri": "https://localhost:8080/"
        },
        "id": "tyKCVn6uqjNn",
        "outputId": "851f2a6a-b43f-4cee-b43a-810fd73828b7"
      },
      "outputs": [
        {
          "name": "stdout",
          "output_type": "stream",
          "text": [
            "Sorting adult males by descending of fare per class:\n",
            "      PassengerId  Survived  Pclass                                Name   Sex  \\\n",
            "737          738         1       1              Lesurer, Mr. Gustave J  male   \n",
            "679          680         1       1  Cardeza, Mr. Thomas Drake Martinez  male   \n",
            "27            28         0       1      Fortune, Mr. Charles Alexander  male   \n",
            "438          439         0       1                   Fortune, Mr. Mark  male   \n",
            "118          119         0       1            Baxter, Mr. Quigg Edmond  male   \n",
            "..           ...       ...     ...                                 ...   ...   \n",
            "271          272         1       3        Tornquist, Mr. William Henry  male   \n",
            "179          180         0       3                 Leonard, Mr. Lionel  male   \n",
            "302          303         0       3     Johnson, Mr. William Cahoone Jr  male   \n",
            "822          823         0       1     Reuchlin, Jonkheer. John George  male   \n",
            "806          807         0       1              Andrews, Mr. Thomas Jr  male   \n",
            "\n",
            "      Age  SibSp  Parch    Ticket      Fare        Cabin Embarked  \\\n",
            "737  35.0      0      0  PC 17755  512.3292         B101        C   \n",
            "679  36.0      0      1  PC 17755  512.3292  B51 B53 B55        C   \n",
            "27   19.0      3      2     19950  263.0000  C23 C25 C27        S   \n",
            "438  64.0      1      4     19950  263.0000  C23 C25 C27        S   \n",
            "118  24.0      0      1  PC 17558  247.5208      B58 B60        C   \n",
            "..    ...    ...    ...       ...       ...          ...      ...   \n",
            "271  25.0      0      0      LINE    0.0000          NaN        S   \n",
            "179  36.0      0      0      LINE    0.0000          NaN        S   \n",
            "302  19.0      0      0      LINE    0.0000          NaN        S   \n",
            "822  38.0      0      0     19972    0.0000          NaN        S   \n",
            "806  39.0      0      0    112050    0.0000          A36        S   \n",
            "\n",
            "     Fare_per_Year  Fare_per_class Age_Group  \n",
            "737      14.637977        512.3292     adult  \n",
            "679      14.231367        512.3292     adult  \n",
            "27       13.842105        263.0000     adult  \n",
            "438       4.109375        263.0000     adult  \n",
            "118      10.313367        247.5208     adult  \n",
            "..             ...             ...       ...  \n",
            "271       0.000000          0.0000     adult  \n",
            "179       0.000000          0.0000     adult  \n",
            "302       0.000000          0.0000     adult  \n",
            "822       0.000000          0.0000     adult  \n",
            "806       0.000000          0.0000     adult  \n",
            "\n",
            "[395 rows x 15 columns]\n"
          ]
        }
      ],
      "source": [
        "# Sort adult males by descending fare per class, assigning this to adult_males_srt\n",
        "\n",
        "adult_males_srt = adult_males.sort_values(by='Fare_per_class', ascending=False)\n",
        "print(\"Sorting adult males by descending of fare per class:\\n\", adult_males_srt)"
      ]
    },
    {
      "cell_type": "code",
      "execution_count": 83,
      "metadata": {
        "colab": {
          "base_uri": "https://localhost:8080/"
        },
        "id": "4wjtW9phrwGV",
        "outputId": "ebc70b6a-60f0-4605-e0f8-e208cb445b10"
      },
      "outputs": [
        {
          "name": "stdout",
          "output_type": "stream",
          "text": [
            "Selection of only Name, Age and Fare_per_Class of adult_males_srt is:\n",
            "                                    Name   Age  Fare_per_class\n",
            "737              Lesurer, Mr. Gustave J  35.0        512.3292\n",
            "679  Cardeza, Mr. Thomas Drake Martinez  36.0        512.3292\n",
            "27       Fortune, Mr. Charles Alexander  19.0        263.0000\n",
            "438                   Fortune, Mr. Mark  64.0        263.0000\n",
            "118            Baxter, Mr. Quigg Edmond  24.0        247.5208\n",
            "..                                  ...   ...             ...\n",
            "271        Tornquist, Mr. William Henry  25.0          0.0000\n",
            "179                 Leonard, Mr. Lionel  36.0          0.0000\n",
            "302     Johnson, Mr. William Cahoone Jr  19.0          0.0000\n",
            "822     Reuchlin, Jonkheer. John George  38.0          0.0000\n",
            "806              Andrews, Mr. Thomas Jr  39.0          0.0000\n",
            "\n",
            "[395 rows x 3 columns]\n"
          ]
        }
      ],
      "source": [
        "# Select only the Name, Age, and fare per class columns of adult males srt and save the result as result.\n",
        "\n",
        "result = adult_males_srt[['Name', 'Age', 'Fare_per_class']]\n",
        "print(\"Selection of only Name, Age and Fare_per_Class of adult_males_srt is:\\n\", result)"
      ]
    },
    {
      "cell_type": "markdown",
      "metadata": {
        "id": "4Dv9g8R9dY8o"
      },
      "source": [
        "Which adult male passenger (age ≥ 18 and Sex is ’male’) paid the highest fare relative to their class?\n",
        "\n",
        "Answer: Lesurer, Mr. Gustave J and Cardeza, Mr. Thomas Drake Martine have the highest fare relative to their class."
      ]
    },
    {
      "cell_type": "markdown",
      "metadata": {
        "id": "1Qys8YZ7dx1O"
      },
      "source": [
        "#3.3 Exploratory Data Analysis with Group-by Method Practice Exercise:\n",
        "##Based on the dataset Answer the following question:\n",
        "###What percent of the total fare revenue came from each passenger class?\n",
        "\n",
        "To answer the question perform following operation:\n",
        "1. Calculate the total Fare paid across all passengers in the Titanic dataset.\n",
        "2. Subset for passengers in first class (Pclass is 1) and calculate their total fare.\n",
        "3. Do the same for second class (Pclass is 2) and third class (Pclass is 3).\n",
        "4. Combine the fare totals from first, second, and third classes into a list.\n",
        "5. Divide the totals for each class by the overall total fare to get the proportion of fare revenue by class."
      ]
    },
    {
      "cell_type": "code",
      "execution_count": 84,
      "metadata": {
        "colab": {
          "base_uri": "https://localhost:8080/"
        },
        "id": "bghvqam1eLSf",
        "outputId": "82c736be-b1e8-49fc-f2ab-10859a121d11"
      },
      "outputs": [
        {
          "name": "stdout",
          "output_type": "stream",
          "text": [
            "The sum of all the Fare is:  28693.9493\n"
          ]
        }
      ],
      "source": [
        "# Calculate the total Fare paid across all passengers in the Titanic dataset\n",
        "\n",
        "total_fare = dataset['Fare'].sum()\n",
        "print(\"The sum of all the Fare is: \", total_fare)"
      ]
    },
    {
      "cell_type": "code",
      "execution_count": 85,
      "metadata": {
        "colab": {
          "base_uri": "https://localhost:8080/"
        },
        "id": "xRlo0QlAea09",
        "outputId": "7a0267ed-3ea5-4c90-e573-cca0d95210f4"
      },
      "outputs": [
        {
          "name": "stdout",
          "output_type": "stream",
          "text": [
            "The sum of all the First Class fare is:  18177.4125\n"
          ]
        }
      ],
      "source": [
        "# Subset for passengers in first class (Pclass is 1) and calculate their total fare\n",
        "\n",
        "first_class = dataset[dataset['Pclass'] == 1]\n",
        "total_fare1 = first_class['Fare'].sum()\n",
        "print(\"The sum of all the First Class fare is: \", total_fare1)"
      ]
    },
    {
      "cell_type": "code",
      "execution_count": 86,
      "metadata": {
        "colab": {
          "base_uri": "https://localhost:8080/"
        },
        "id": "Eph3vlsne9mH",
        "outputId": "70882f92-ec42-469d-831e-48d8d2098c69"
      },
      "outputs": [
        {
          "name": "stdout",
          "output_type": "stream",
          "text": [
            "Total fare of second class is:  3801.8417\n",
            "Total fare of third class is:  6714.6951\n"
          ]
        }
      ],
      "source": [
        "# Do the same for second class (Pclass is 2) and third class (Pclass is 3).\n",
        "\n",
        "second_class = dataset[dataset['Pclass'] == 2]\n",
        "total_fare2 = second_class['Fare'].sum()\n",
        "print(\"Total fare of second class is: \", total_fare2)\n",
        "\n",
        "third_class = dataset[dataset['Pclass'] == 3]\n",
        "total_fare3 = third_class['Fare'].sum()\n",
        "print(\"Total fare of third class is: \", total_fare3)"
      ]
    },
    {
      "cell_type": "code",
      "execution_count": 87,
      "metadata": {
        "colab": {
          "base_uri": "https://localhost:8080/"
        },
        "id": "8H6ijqImfNUP",
        "outputId": "74c27482-b9cf-49a7-86bd-11c57d2a90ad"
      },
      "outputs": [
        {
          "name": "stdout",
          "output_type": "stream",
          "text": [
            "List of total fares of first, second and third classes is:  [18177.4125, 3801.8417, 6714.6951]\n"
          ]
        }
      ],
      "source": [
        "# Combine the fare totals from first, second, and third classes into a list.\n",
        "\n",
        "fare_list = [total_fare1, total_fare2, total_fare3]\n",
        "print(\"List of total fares of first, second and third classes is: \", fare_list)"
      ]
    },
    {
      "cell_type": "code",
      "execution_count": 88,
      "metadata": {
        "colab": {
          "base_uri": "https://localhost:8080/"
        },
        "id": "ZXCiqbLVfbJX",
        "outputId": "ce83f6b8-6b3e-4b77-fdb2-9d34fff00d4d"
      },
      "outputs": [
        {
          "name": "stdout",
          "output_type": "stream",
          "text": [
            "The proportion of total fares of first, second and third classes is:  [0.6334928771899656, 0.1324962855496507, 0.23401083726038366]\n"
          ]
        }
      ],
      "source": [
        "# Divide the totals for each class by the overall total fare to get the proportion of fare revenue by class.\n",
        "\n",
        "proportion_list = [total_fare1/total_fare, total_fare2/total_fare, total_fare3/total_fare]\n",
        "print(\"The proportion of total fares of first, second and third classes is: \", proportion_list)"
      ]
    },
    {
      "cell_type": "markdown",
      "metadata": {
        "id": "NN5tDl_Hf8cA"
      },
      "source": [
        "##Based on the dataset Answer the following question:\n",
        "\n",
        "###What percent of the total number of passengers on the Titanic belonged to each age group(e.g., child, adult, senior)?\n",
        "\n",
        "To answer the question perform following operation:\n",
        "1. Create a new column, age group, that categorizes passengers into \"child\" (age < 18), \"adult\" (age\n",
        "18{64), and \"senior\" (age 65 and above).\n",
        "2. Calculate the total number of passengers on the Titanic.\n",
        "3. Count the number of passengers in each age group.\n",
        "4. Divide the count of each age group by the total number of passengers to get the proportion of passengers\n",
        "in each age group.\n",
        "5. Display the proportion as a percentage."
      ]
    },
    {
      "cell_type": "code",
      "execution_count": 89,
      "metadata": {
        "colab": {
          "base_uri": "https://localhost:8080/"
        },
        "id": "PkNoQq0pgMxx",
        "outputId": "041a6439-4dd5-49da-c2a6-8ee6ea4ce1a3"
      },
      "outputs": [
        {
          "name": "stdout",
          "output_type": "stream",
          "text": [
            "Dataset after adding new column, Age_Group is:\n",
            "    PassengerId  Survived  Pclass  \\\n",
            "0            1         0       3   \n",
            "1            2         1       1   \n",
            "2            3         1       3   \n",
            "3            4         1       1   \n",
            "4            5         0       3   \n",
            "\n",
            "                                                Name     Sex   Age  SibSp  \\\n",
            "0                            Braund, Mr. Owen Harris    male  22.0      1   \n",
            "1  Cumings, Mrs. John Bradley (Florence Briggs Th...  female  38.0      1   \n",
            "2                             Heikkinen, Miss. Laina  female  26.0      0   \n",
            "3       Futrelle, Mrs. Jacques Heath (Lily May Peel)  female  35.0      1   \n",
            "4                           Allen, Mr. William Henry    male  35.0      0   \n",
            "\n",
            "   Parch            Ticket     Fare Cabin Embarked  Fare_per_Year  \\\n",
            "0      0         A/5 21171   7.2500   NaN        S       0.329545   \n",
            "1      0          PC 17599  71.2833   C85        C       1.875876   \n",
            "2      0  STON/O2. 3101282   7.9250   NaN        S       0.304808   \n",
            "3      0            113803  53.1000  C123        S       1.517143   \n",
            "4      0            373450   8.0500   NaN        S       0.230000   \n",
            "\n",
            "   Fare_per_class Age_Group  \n",
            "0        2.416667     adult  \n",
            "1       71.283300     adult  \n",
            "2        2.641667     adult  \n",
            "3       53.100000     adult  \n",
            "4        2.683333     adult  \n"
          ]
        }
      ],
      "source": [
        "# Create a new column, age group, that categorizes passengers into \"child\" (age < 18), \"adult\" (age 18{64), and \"senior\" (age 65 and above).\n",
        "\n",
        "dataset['Age_Group'] = pd.cut(dataset['Age'], bins=[0, 18, 64, float('inf')], labels=['child', 'adult', 'senior'])\n",
        "print(\"Dataset after adding new column, Age_Group is:\\n\", dataset.head())"
      ]
    },
    {
      "cell_type": "code",
      "execution_count": 90,
      "metadata": {
        "colab": {
          "base_uri": "https://localhost:8080/"
        },
        "id": "SvcyDo7Xkrtx",
        "outputId": "8e7763c6-8c22-47e9-c6fd-6198ff7fc02e"
      },
      "outputs": [
        {
          "name": "stdout",
          "output_type": "stream",
          "text": [
            "The total number of passengers is:  891\n"
          ]
        }
      ],
      "source": [
        "# Calculate the total number of passengers on the Titanic.\n",
        "\n",
        "total_passengers = len(dataset)\n",
        "print(\"The total number of passengers is: \", total_passengers)"
      ]
    },
    {
      "cell_type": "code",
      "execution_count": 91,
      "metadata": {
        "colab": {
          "base_uri": "https://localhost:8080/"
        },
        "id": "CSlSYj6lk5d-",
        "outputId": "f69e0363-328a-4ba8-ff67-7bea0bca6b01"
      },
      "outputs": [
        {
          "name": "stdout",
          "output_type": "stream",
          "text": [
            "The total number of passengers in each age group is:\n",
            " Age_Group\n",
            "adult     564\n",
            "child     139\n",
            "senior     11\n",
            "Name: count, dtype: int64\n"
          ]
        }
      ],
      "source": [
        "# Count the number of passengers in each age group.\n",
        "\n",
        "age_group_counts = dataset['Age_Group'].value_counts()\n",
        "print(\"The total number of passengers in each age group is:\\n\", age_group_counts)"
      ]
    },
    {
      "cell_type": "code",
      "execution_count": 92,
      "metadata": {
        "colab": {
          "base_uri": "https://localhost:8080/"
        },
        "id": "Ha70br1DlBFO",
        "outputId": "91514ff8-cfa6-4127-a929-67d41f0ef903"
      },
      "outputs": [
        {
          "name": "stdout",
          "output_type": "stream",
          "text": [
            "The proportions of age group counts is:\n",
            " Age_Group\n",
            "adult     0.632997\n",
            "child     0.156004\n",
            "senior    0.012346\n",
            "Name: count, dtype: float64\n"
          ]
        }
      ],
      "source": [
        "# Divide the count of each age group by the total number of passengers to get the proportion of passengers in each age group.\n",
        "\n",
        "age_group_proportions = age_group_counts / total_passengers\n",
        "print(\"The proportions of age group counts is:\\n\", age_group_proportions)"
      ]
    },
    {
      "cell_type": "code",
      "execution_count": 93,
      "metadata": {
        "colab": {
          "base_uri": "https://localhost:8080/"
        },
        "id": "weOYPX0dlKTr",
        "outputId": "eab1c340-6e12-4478-c3fc-ffe5a3380a71"
      },
      "outputs": [
        {
          "name": "stdout",
          "output_type": "stream",
          "text": [
            "The percentage of age group counts is:\n",
            " Age_Group\n",
            "adult     63.299663\n",
            "child     15.600449\n",
            "senior     1.234568\n",
            "Name: count, dtype: float64\n"
          ]
        }
      ],
      "source": [
        "# Display the proportion as a percentage.\n",
        "\n",
        "age_group_percentages = age_group_proportions * 100\n",
        "print(\"The percentage of age group counts is:\\n\", age_group_percentages)"
      ]
    }
  ],
  "metadata": {
    "colab": {
      "provenance": []
    },
    "kernelspec": {
      "display_name": "Python 3",
      "name": "python3"
    },
    "language_info": {
      "name": "python"
    }
  },
  "nbformat": 4,
  "nbformat_minor": 0
}
